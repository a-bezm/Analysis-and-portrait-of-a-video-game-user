{
  "cells": [
    {
      "cell_type": "markdown",
      "metadata": {
        "id": "NxmtZolxGnUR"
      },
      "source": [
        "<div class=\"alert alert-info\"> <b>Комментарии студента:</b>  \n",
        "    \n",
        "    Name — название игры\n",
        "    \n",
        "    Platform — платформа\n",
        "    \n",
        "    Year_of_Release — год выпуска\n",
        "    \n",
        "    Genre — жанр игры\n",
        "    \n",
        "    NA_sales — продажи в Северной Америке (миллионы проданных копий)\n",
        "    \n",
        "    EU_sales — продажи в Европе (миллионы проданных копий)\n",
        "    \n",
        "    JP_sales — продажи в Японии (миллионы проданных копий)\n",
        "    \n",
        "    Other_sales — продажи в других странах (миллионы проданных копий)\n",
        "    \n",
        "    Critic_Score — оценка критиков (максимум 100)\n",
        "    \n",
        "    User_Score — оценка пользователей (максимум 10)\n",
        "    \n",
        "    Rating — рейтинг от организации ESRB (англ. Entertainment Software Rating Board). Эта ассоциация определяет рейтинг компьютерных игр и присваивает им подходящую возрастную категорию.</div>"
      ]
    },
    {
      "cell_type": "code",
      "execution_count": null,
      "metadata": {
        "id": "WS-M5S7vGnUX"
      },
      "outputs": [],
      "source": [
        "import pandas as pd\n",
        "import matplotlib.pyplot as plt\n",
        "import seaborn as sb\n",
        "import numpy as nmp\n",
        "from scipy import stats as st\n",
        "data = pd.read_csv('https://code.s3.yandex.net/datasets/games.csv')"
      ]
    },
    {
      "cell_type": "code",
      "execution_count": null,
      "metadata": {
        "id": "EzVpe30UGnUi",
        "outputId": "864f7d6f-1b99-45b3-95ce-b1b61a742a8a"
      },
      "outputs": [
        {
          "data": {
            "text/html": [
              "<div>\n",
              "<style scoped>\n",
              "    .dataframe tbody tr th:only-of-type {\n",
              "        vertical-align: middle;\n",
              "    }\n",
              "\n",
              "    .dataframe tbody tr th {\n",
              "        vertical-align: top;\n",
              "    }\n",
              "\n",
              "    .dataframe thead th {\n",
              "        text-align: right;\n",
              "    }\n",
              "</style>\n",
              "<table border=\"1\" class=\"dataframe\">\n",
              "  <thead>\n",
              "    <tr style=\"text-align: right;\">\n",
              "      <th></th>\n",
              "      <th>Name</th>\n",
              "      <th>Platform</th>\n",
              "      <th>Year_of_Release</th>\n",
              "      <th>Genre</th>\n",
              "      <th>NA_sales</th>\n",
              "      <th>EU_sales</th>\n",
              "      <th>JP_sales</th>\n",
              "      <th>Other_sales</th>\n",
              "      <th>Critic_Score</th>\n",
              "      <th>User_Score</th>\n",
              "      <th>Rating</th>\n",
              "    </tr>\n",
              "  </thead>\n",
              "  <tbody>\n",
              "    <tr>\n",
              "      <th>0</th>\n",
              "      <td>Wii Sports</td>\n",
              "      <td>Wii</td>\n",
              "      <td>2006.0</td>\n",
              "      <td>Sports</td>\n",
              "      <td>41.36</td>\n",
              "      <td>28.96</td>\n",
              "      <td>3.77</td>\n",
              "      <td>8.45</td>\n",
              "      <td>76.0</td>\n",
              "      <td>8</td>\n",
              "      <td>E</td>\n",
              "    </tr>\n",
              "    <tr>\n",
              "      <th>1</th>\n",
              "      <td>Super Mario Bros.</td>\n",
              "      <td>NES</td>\n",
              "      <td>1985.0</td>\n",
              "      <td>Platform</td>\n",
              "      <td>29.08</td>\n",
              "      <td>3.58</td>\n",
              "      <td>6.81</td>\n",
              "      <td>0.77</td>\n",
              "      <td>NaN</td>\n",
              "      <td>NaN</td>\n",
              "      <td>NaN</td>\n",
              "    </tr>\n",
              "    <tr>\n",
              "      <th>2</th>\n",
              "      <td>Mario Kart Wii</td>\n",
              "      <td>Wii</td>\n",
              "      <td>2008.0</td>\n",
              "      <td>Racing</td>\n",
              "      <td>15.68</td>\n",
              "      <td>12.76</td>\n",
              "      <td>3.79</td>\n",
              "      <td>3.29</td>\n",
              "      <td>82.0</td>\n",
              "      <td>8.3</td>\n",
              "      <td>E</td>\n",
              "    </tr>\n",
              "    <tr>\n",
              "      <th>3</th>\n",
              "      <td>Wii Sports Resort</td>\n",
              "      <td>Wii</td>\n",
              "      <td>2009.0</td>\n",
              "      <td>Sports</td>\n",
              "      <td>15.61</td>\n",
              "      <td>10.93</td>\n",
              "      <td>3.28</td>\n",
              "      <td>2.95</td>\n",
              "      <td>80.0</td>\n",
              "      <td>8</td>\n",
              "      <td>E</td>\n",
              "    </tr>\n",
              "    <tr>\n",
              "      <th>4</th>\n",
              "      <td>Pokemon Red/Pokemon Blue</td>\n",
              "      <td>GB</td>\n",
              "      <td>1996.0</td>\n",
              "      <td>Role-Playing</td>\n",
              "      <td>11.27</td>\n",
              "      <td>8.89</td>\n",
              "      <td>10.22</td>\n",
              "      <td>1.00</td>\n",
              "      <td>NaN</td>\n",
              "      <td>NaN</td>\n",
              "      <td>NaN</td>\n",
              "    </tr>\n",
              "    <tr>\n",
              "      <th>...</th>\n",
              "      <td>...</td>\n",
              "      <td>...</td>\n",
              "      <td>...</td>\n",
              "      <td>...</td>\n",
              "      <td>...</td>\n",
              "      <td>...</td>\n",
              "      <td>...</td>\n",
              "      <td>...</td>\n",
              "      <td>...</td>\n",
              "      <td>...</td>\n",
              "      <td>...</td>\n",
              "    </tr>\n",
              "    <tr>\n",
              "      <th>16710</th>\n",
              "      <td>Samurai Warriors: Sanada Maru</td>\n",
              "      <td>PS3</td>\n",
              "      <td>2016.0</td>\n",
              "      <td>Action</td>\n",
              "      <td>0.00</td>\n",
              "      <td>0.00</td>\n",
              "      <td>0.01</td>\n",
              "      <td>0.00</td>\n",
              "      <td>NaN</td>\n",
              "      <td>NaN</td>\n",
              "      <td>NaN</td>\n",
              "    </tr>\n",
              "    <tr>\n",
              "      <th>16711</th>\n",
              "      <td>LMA Manager 2007</td>\n",
              "      <td>X360</td>\n",
              "      <td>2006.0</td>\n",
              "      <td>Sports</td>\n",
              "      <td>0.00</td>\n",
              "      <td>0.01</td>\n",
              "      <td>0.00</td>\n",
              "      <td>0.00</td>\n",
              "      <td>NaN</td>\n",
              "      <td>NaN</td>\n",
              "      <td>NaN</td>\n",
              "    </tr>\n",
              "    <tr>\n",
              "      <th>16712</th>\n",
              "      <td>Haitaka no Psychedelica</td>\n",
              "      <td>PSV</td>\n",
              "      <td>2016.0</td>\n",
              "      <td>Adventure</td>\n",
              "      <td>0.00</td>\n",
              "      <td>0.00</td>\n",
              "      <td>0.01</td>\n",
              "      <td>0.00</td>\n",
              "      <td>NaN</td>\n",
              "      <td>NaN</td>\n",
              "      <td>NaN</td>\n",
              "    </tr>\n",
              "    <tr>\n",
              "      <th>16713</th>\n",
              "      <td>Spirits &amp; Spells</td>\n",
              "      <td>GBA</td>\n",
              "      <td>2003.0</td>\n",
              "      <td>Platform</td>\n",
              "      <td>0.01</td>\n",
              "      <td>0.00</td>\n",
              "      <td>0.00</td>\n",
              "      <td>0.00</td>\n",
              "      <td>NaN</td>\n",
              "      <td>NaN</td>\n",
              "      <td>NaN</td>\n",
              "    </tr>\n",
              "    <tr>\n",
              "      <th>16714</th>\n",
              "      <td>Winning Post 8 2016</td>\n",
              "      <td>PSV</td>\n",
              "      <td>2016.0</td>\n",
              "      <td>Simulation</td>\n",
              "      <td>0.00</td>\n",
              "      <td>0.00</td>\n",
              "      <td>0.01</td>\n",
              "      <td>0.00</td>\n",
              "      <td>NaN</td>\n",
              "      <td>NaN</td>\n",
              "      <td>NaN</td>\n",
              "    </tr>\n",
              "  </tbody>\n",
              "</table>\n",
              "<p>16715 rows × 11 columns</p>\n",
              "</div>"
            ],
            "text/plain": [
              "                                Name Platform  Year_of_Release         Genre  \\\n",
              "0                         Wii Sports      Wii           2006.0        Sports   \n",
              "1                  Super Mario Bros.      NES           1985.0      Platform   \n",
              "2                     Mario Kart Wii      Wii           2008.0        Racing   \n",
              "3                  Wii Sports Resort      Wii           2009.0        Sports   \n",
              "4           Pokemon Red/Pokemon Blue       GB           1996.0  Role-Playing   \n",
              "...                              ...      ...              ...           ...   \n",
              "16710  Samurai Warriors: Sanada Maru      PS3           2016.0        Action   \n",
              "16711               LMA Manager 2007     X360           2006.0        Sports   \n",
              "16712        Haitaka no Psychedelica      PSV           2016.0     Adventure   \n",
              "16713               Spirits & Spells      GBA           2003.0      Platform   \n",
              "16714            Winning Post 8 2016      PSV           2016.0    Simulation   \n",
              "\n",
              "       NA_sales  EU_sales  JP_sales  Other_sales  Critic_Score User_Score  \\\n",
              "0         41.36     28.96      3.77         8.45          76.0          8   \n",
              "1         29.08      3.58      6.81         0.77           NaN        NaN   \n",
              "2         15.68     12.76      3.79         3.29          82.0        8.3   \n",
              "3         15.61     10.93      3.28         2.95          80.0          8   \n",
              "4         11.27      8.89     10.22         1.00           NaN        NaN   \n",
              "...         ...       ...       ...          ...           ...        ...   \n",
              "16710      0.00      0.00      0.01         0.00           NaN        NaN   \n",
              "16711      0.00      0.01      0.00         0.00           NaN        NaN   \n",
              "16712      0.00      0.00      0.01         0.00           NaN        NaN   \n",
              "16713      0.01      0.00      0.00         0.00           NaN        NaN   \n",
              "16714      0.00      0.00      0.01         0.00           NaN        NaN   \n",
              "\n",
              "      Rating  \n",
              "0          E  \n",
              "1        NaN  \n",
              "2          E  \n",
              "3          E  \n",
              "4        NaN  \n",
              "...      ...  \n",
              "16710    NaN  \n",
              "16711    NaN  \n",
              "16712    NaN  \n",
              "16713    NaN  \n",
              "16714    NaN  \n",
              "\n",
              "[16715 rows x 11 columns]"
            ]
          },
          "metadata": {},
          "output_type": "display_data"
        }
      ],
      "source": [
        "display(data)"
      ]
    },
    {
      "cell_type": "code",
      "execution_count": null,
      "metadata": {
        "id": "I08oaqYVGnUr",
        "outputId": "04dfc71b-15be-40f5-cbb2-19e143c1361d"
      },
      "outputs": [
        {
          "data": {
            "text/html": [
              "<div>\n",
              "<style scoped>\n",
              "    .dataframe tbody tr th:only-of-type {\n",
              "        vertical-align: middle;\n",
              "    }\n",
              "\n",
              "    .dataframe tbody tr th {\n",
              "        vertical-align: top;\n",
              "    }\n",
              "\n",
              "    .dataframe thead th {\n",
              "        text-align: right;\n",
              "    }\n",
              "</style>\n",
              "<table border=\"1\" class=\"dataframe\">\n",
              "  <thead>\n",
              "    <tr style=\"text-align: right;\">\n",
              "      <th></th>\n",
              "      <th>Name</th>\n",
              "      <th>Platform</th>\n",
              "      <th>Year_of_Release</th>\n",
              "      <th>Genre</th>\n",
              "      <th>NA_sales</th>\n",
              "      <th>EU_sales</th>\n",
              "      <th>JP_sales</th>\n",
              "      <th>Other_sales</th>\n",
              "      <th>Critic_Score</th>\n",
              "      <th>User_Score</th>\n",
              "      <th>Rating</th>\n",
              "    </tr>\n",
              "  </thead>\n",
              "  <tbody>\n",
              "    <tr>\n",
              "      <th>0</th>\n",
              "      <td>Wii Sports</td>\n",
              "      <td>Wii</td>\n",
              "      <td>2006.0</td>\n",
              "      <td>Sports</td>\n",
              "      <td>41.36</td>\n",
              "      <td>28.96</td>\n",
              "      <td>3.77</td>\n",
              "      <td>8.45</td>\n",
              "      <td>76.0</td>\n",
              "      <td>8</td>\n",
              "      <td>E</td>\n",
              "    </tr>\n",
              "    <tr>\n",
              "      <th>1</th>\n",
              "      <td>Super Mario Bros.</td>\n",
              "      <td>NES</td>\n",
              "      <td>1985.0</td>\n",
              "      <td>Platform</td>\n",
              "      <td>29.08</td>\n",
              "      <td>3.58</td>\n",
              "      <td>6.81</td>\n",
              "      <td>0.77</td>\n",
              "      <td>NaN</td>\n",
              "      <td>NaN</td>\n",
              "      <td>NaN</td>\n",
              "    </tr>\n",
              "    <tr>\n",
              "      <th>2</th>\n",
              "      <td>Mario Kart Wii</td>\n",
              "      <td>Wii</td>\n",
              "      <td>2008.0</td>\n",
              "      <td>Racing</td>\n",
              "      <td>15.68</td>\n",
              "      <td>12.76</td>\n",
              "      <td>3.79</td>\n",
              "      <td>3.29</td>\n",
              "      <td>82.0</td>\n",
              "      <td>8.3</td>\n",
              "      <td>E</td>\n",
              "    </tr>\n",
              "    <tr>\n",
              "      <th>3</th>\n",
              "      <td>Wii Sports Resort</td>\n",
              "      <td>Wii</td>\n",
              "      <td>2009.0</td>\n",
              "      <td>Sports</td>\n",
              "      <td>15.61</td>\n",
              "      <td>10.93</td>\n",
              "      <td>3.28</td>\n",
              "      <td>2.95</td>\n",
              "      <td>80.0</td>\n",
              "      <td>8</td>\n",
              "      <td>E</td>\n",
              "    </tr>\n",
              "    <tr>\n",
              "      <th>4</th>\n",
              "      <td>Pokemon Red/Pokemon Blue</td>\n",
              "      <td>GB</td>\n",
              "      <td>1996.0</td>\n",
              "      <td>Role-Playing</td>\n",
              "      <td>11.27</td>\n",
              "      <td>8.89</td>\n",
              "      <td>10.22</td>\n",
              "      <td>1.00</td>\n",
              "      <td>NaN</td>\n",
              "      <td>NaN</td>\n",
              "      <td>NaN</td>\n",
              "    </tr>\n",
              "    <tr>\n",
              "      <th>5</th>\n",
              "      <td>Tetris</td>\n",
              "      <td>GB</td>\n",
              "      <td>1989.0</td>\n",
              "      <td>Puzzle</td>\n",
              "      <td>23.20</td>\n",
              "      <td>2.26</td>\n",
              "      <td>4.22</td>\n",
              "      <td>0.58</td>\n",
              "      <td>NaN</td>\n",
              "      <td>NaN</td>\n",
              "      <td>NaN</td>\n",
              "    </tr>\n",
              "    <tr>\n",
              "      <th>6</th>\n",
              "      <td>New Super Mario Bros.</td>\n",
              "      <td>DS</td>\n",
              "      <td>2006.0</td>\n",
              "      <td>Platform</td>\n",
              "      <td>11.28</td>\n",
              "      <td>9.14</td>\n",
              "      <td>6.50</td>\n",
              "      <td>2.88</td>\n",
              "      <td>89.0</td>\n",
              "      <td>8.5</td>\n",
              "      <td>E</td>\n",
              "    </tr>\n",
              "    <tr>\n",
              "      <th>7</th>\n",
              "      <td>Wii Play</td>\n",
              "      <td>Wii</td>\n",
              "      <td>2006.0</td>\n",
              "      <td>Misc</td>\n",
              "      <td>13.96</td>\n",
              "      <td>9.18</td>\n",
              "      <td>2.93</td>\n",
              "      <td>2.84</td>\n",
              "      <td>58.0</td>\n",
              "      <td>6.6</td>\n",
              "      <td>E</td>\n",
              "    </tr>\n",
              "    <tr>\n",
              "      <th>8</th>\n",
              "      <td>New Super Mario Bros. Wii</td>\n",
              "      <td>Wii</td>\n",
              "      <td>2009.0</td>\n",
              "      <td>Platform</td>\n",
              "      <td>14.44</td>\n",
              "      <td>6.94</td>\n",
              "      <td>4.70</td>\n",
              "      <td>2.24</td>\n",
              "      <td>87.0</td>\n",
              "      <td>8.4</td>\n",
              "      <td>E</td>\n",
              "    </tr>\n",
              "    <tr>\n",
              "      <th>9</th>\n",
              "      <td>Duck Hunt</td>\n",
              "      <td>NES</td>\n",
              "      <td>1984.0</td>\n",
              "      <td>Shooter</td>\n",
              "      <td>26.93</td>\n",
              "      <td>0.63</td>\n",
              "      <td>0.28</td>\n",
              "      <td>0.47</td>\n",
              "      <td>NaN</td>\n",
              "      <td>NaN</td>\n",
              "      <td>NaN</td>\n",
              "    </tr>\n",
              "  </tbody>\n",
              "</table>\n",
              "</div>"
            ],
            "text/plain": [
              "                        Name Platform  Year_of_Release         Genre  \\\n",
              "0                 Wii Sports      Wii           2006.0        Sports   \n",
              "1          Super Mario Bros.      NES           1985.0      Platform   \n",
              "2             Mario Kart Wii      Wii           2008.0        Racing   \n",
              "3          Wii Sports Resort      Wii           2009.0        Sports   \n",
              "4   Pokemon Red/Pokemon Blue       GB           1996.0  Role-Playing   \n",
              "5                     Tetris       GB           1989.0        Puzzle   \n",
              "6      New Super Mario Bros.       DS           2006.0      Platform   \n",
              "7                   Wii Play      Wii           2006.0          Misc   \n",
              "8  New Super Mario Bros. Wii      Wii           2009.0      Platform   \n",
              "9                  Duck Hunt      NES           1984.0       Shooter   \n",
              "\n",
              "   NA_sales  EU_sales  JP_sales  Other_sales  Critic_Score User_Score Rating  \n",
              "0     41.36     28.96      3.77         8.45          76.0          8      E  \n",
              "1     29.08      3.58      6.81         0.77           NaN        NaN    NaN  \n",
              "2     15.68     12.76      3.79         3.29          82.0        8.3      E  \n",
              "3     15.61     10.93      3.28         2.95          80.0          8      E  \n",
              "4     11.27      8.89     10.22         1.00           NaN        NaN    NaN  \n",
              "5     23.20      2.26      4.22         0.58           NaN        NaN    NaN  \n",
              "6     11.28      9.14      6.50         2.88          89.0        8.5      E  \n",
              "7     13.96      9.18      2.93         2.84          58.0        6.6      E  \n",
              "8     14.44      6.94      4.70         2.24          87.0        8.4      E  \n",
              "9     26.93      0.63      0.28         0.47           NaN        NaN    NaN  "
            ]
          },
          "execution_count": 3,
          "metadata": {},
          "output_type": "execute_result"
        }
      ],
      "source": [
        "data.head(10)"
      ]
    },
    {
      "cell_type": "code",
      "execution_count": null,
      "metadata": {
        "id": "yzzfdlgEGnUs",
        "outputId": "21ff3294-de58-4e86-b742-536c443962e7"
      },
      "outputs": [
        {
          "data": {
            "text/html": [
              "<div>\n",
              "<style scoped>\n",
              "    .dataframe tbody tr th:only-of-type {\n",
              "        vertical-align: middle;\n",
              "    }\n",
              "\n",
              "    .dataframe tbody tr th {\n",
              "        vertical-align: top;\n",
              "    }\n",
              "\n",
              "    .dataframe thead th {\n",
              "        text-align: right;\n",
              "    }\n",
              "</style>\n",
              "<table border=\"1\" class=\"dataframe\">\n",
              "  <thead>\n",
              "    <tr style=\"text-align: right;\">\n",
              "      <th></th>\n",
              "      <th>Name</th>\n",
              "      <th>Platform</th>\n",
              "      <th>Year_of_Release</th>\n",
              "      <th>Genre</th>\n",
              "      <th>NA_sales</th>\n",
              "      <th>EU_sales</th>\n",
              "      <th>JP_sales</th>\n",
              "      <th>Other_sales</th>\n",
              "      <th>Critic_Score</th>\n",
              "      <th>User_Score</th>\n",
              "      <th>Rating</th>\n",
              "    </tr>\n",
              "  </thead>\n",
              "  <tbody>\n",
              "    <tr>\n",
              "      <th>16705</th>\n",
              "      <td>15 Days</td>\n",
              "      <td>PC</td>\n",
              "      <td>2009.0</td>\n",
              "      <td>Adventure</td>\n",
              "      <td>0.00</td>\n",
              "      <td>0.01</td>\n",
              "      <td>0.00</td>\n",
              "      <td>0.0</td>\n",
              "      <td>63.0</td>\n",
              "      <td>5.8</td>\n",
              "      <td>NaN</td>\n",
              "    </tr>\n",
              "    <tr>\n",
              "      <th>16706</th>\n",
              "      <td>Men in Black II: Alien Escape</td>\n",
              "      <td>GC</td>\n",
              "      <td>2003.0</td>\n",
              "      <td>Shooter</td>\n",
              "      <td>0.01</td>\n",
              "      <td>0.00</td>\n",
              "      <td>0.00</td>\n",
              "      <td>0.0</td>\n",
              "      <td>NaN</td>\n",
              "      <td>tbd</td>\n",
              "      <td>T</td>\n",
              "    </tr>\n",
              "    <tr>\n",
              "      <th>16707</th>\n",
              "      <td>Aiyoku no Eustia</td>\n",
              "      <td>PSV</td>\n",
              "      <td>2014.0</td>\n",
              "      <td>Misc</td>\n",
              "      <td>0.00</td>\n",
              "      <td>0.00</td>\n",
              "      <td>0.01</td>\n",
              "      <td>0.0</td>\n",
              "      <td>NaN</td>\n",
              "      <td>NaN</td>\n",
              "      <td>NaN</td>\n",
              "    </tr>\n",
              "    <tr>\n",
              "      <th>16708</th>\n",
              "      <td>Woody Woodpecker in Crazy Castle 5</td>\n",
              "      <td>GBA</td>\n",
              "      <td>2002.0</td>\n",
              "      <td>Platform</td>\n",
              "      <td>0.01</td>\n",
              "      <td>0.00</td>\n",
              "      <td>0.00</td>\n",
              "      <td>0.0</td>\n",
              "      <td>NaN</td>\n",
              "      <td>NaN</td>\n",
              "      <td>NaN</td>\n",
              "    </tr>\n",
              "    <tr>\n",
              "      <th>16709</th>\n",
              "      <td>SCORE International Baja 1000: The Official Game</td>\n",
              "      <td>PS2</td>\n",
              "      <td>2008.0</td>\n",
              "      <td>Racing</td>\n",
              "      <td>0.00</td>\n",
              "      <td>0.00</td>\n",
              "      <td>0.00</td>\n",
              "      <td>0.0</td>\n",
              "      <td>NaN</td>\n",
              "      <td>NaN</td>\n",
              "      <td>NaN</td>\n",
              "    </tr>\n",
              "    <tr>\n",
              "      <th>16710</th>\n",
              "      <td>Samurai Warriors: Sanada Maru</td>\n",
              "      <td>PS3</td>\n",
              "      <td>2016.0</td>\n",
              "      <td>Action</td>\n",
              "      <td>0.00</td>\n",
              "      <td>0.00</td>\n",
              "      <td>0.01</td>\n",
              "      <td>0.0</td>\n",
              "      <td>NaN</td>\n",
              "      <td>NaN</td>\n",
              "      <td>NaN</td>\n",
              "    </tr>\n",
              "    <tr>\n",
              "      <th>16711</th>\n",
              "      <td>LMA Manager 2007</td>\n",
              "      <td>X360</td>\n",
              "      <td>2006.0</td>\n",
              "      <td>Sports</td>\n",
              "      <td>0.00</td>\n",
              "      <td>0.01</td>\n",
              "      <td>0.00</td>\n",
              "      <td>0.0</td>\n",
              "      <td>NaN</td>\n",
              "      <td>NaN</td>\n",
              "      <td>NaN</td>\n",
              "    </tr>\n",
              "    <tr>\n",
              "      <th>16712</th>\n",
              "      <td>Haitaka no Psychedelica</td>\n",
              "      <td>PSV</td>\n",
              "      <td>2016.0</td>\n",
              "      <td>Adventure</td>\n",
              "      <td>0.00</td>\n",
              "      <td>0.00</td>\n",
              "      <td>0.01</td>\n",
              "      <td>0.0</td>\n",
              "      <td>NaN</td>\n",
              "      <td>NaN</td>\n",
              "      <td>NaN</td>\n",
              "    </tr>\n",
              "    <tr>\n",
              "      <th>16713</th>\n",
              "      <td>Spirits &amp; Spells</td>\n",
              "      <td>GBA</td>\n",
              "      <td>2003.0</td>\n",
              "      <td>Platform</td>\n",
              "      <td>0.01</td>\n",
              "      <td>0.00</td>\n",
              "      <td>0.00</td>\n",
              "      <td>0.0</td>\n",
              "      <td>NaN</td>\n",
              "      <td>NaN</td>\n",
              "      <td>NaN</td>\n",
              "    </tr>\n",
              "    <tr>\n",
              "      <th>16714</th>\n",
              "      <td>Winning Post 8 2016</td>\n",
              "      <td>PSV</td>\n",
              "      <td>2016.0</td>\n",
              "      <td>Simulation</td>\n",
              "      <td>0.00</td>\n",
              "      <td>0.00</td>\n",
              "      <td>0.01</td>\n",
              "      <td>0.0</td>\n",
              "      <td>NaN</td>\n",
              "      <td>NaN</td>\n",
              "      <td>NaN</td>\n",
              "    </tr>\n",
              "  </tbody>\n",
              "</table>\n",
              "</div>"
            ],
            "text/plain": [
              "                                                   Name Platform  \\\n",
              "16705                                           15 Days       PC   \n",
              "16706                     Men in Black II: Alien Escape       GC   \n",
              "16707                                  Aiyoku no Eustia      PSV   \n",
              "16708                Woody Woodpecker in Crazy Castle 5      GBA   \n",
              "16709  SCORE International Baja 1000: The Official Game      PS2   \n",
              "16710                     Samurai Warriors: Sanada Maru      PS3   \n",
              "16711                                  LMA Manager 2007     X360   \n",
              "16712                           Haitaka no Psychedelica      PSV   \n",
              "16713                                  Spirits & Spells      GBA   \n",
              "16714                               Winning Post 8 2016      PSV   \n",
              "\n",
              "       Year_of_Release       Genre  NA_sales  EU_sales  JP_sales  Other_sales  \\\n",
              "16705           2009.0   Adventure      0.00      0.01      0.00          0.0   \n",
              "16706           2003.0     Shooter      0.01      0.00      0.00          0.0   \n",
              "16707           2014.0        Misc      0.00      0.00      0.01          0.0   \n",
              "16708           2002.0    Platform      0.01      0.00      0.00          0.0   \n",
              "16709           2008.0      Racing      0.00      0.00      0.00          0.0   \n",
              "16710           2016.0      Action      0.00      0.00      0.01          0.0   \n",
              "16711           2006.0      Sports      0.00      0.01      0.00          0.0   \n",
              "16712           2016.0   Adventure      0.00      0.00      0.01          0.0   \n",
              "16713           2003.0    Platform      0.01      0.00      0.00          0.0   \n",
              "16714           2016.0  Simulation      0.00      0.00      0.01          0.0   \n",
              "\n",
              "       Critic_Score User_Score Rating  \n",
              "16705          63.0        5.8    NaN  \n",
              "16706           NaN        tbd      T  \n",
              "16707           NaN        NaN    NaN  \n",
              "16708           NaN        NaN    NaN  \n",
              "16709           NaN        NaN    NaN  \n",
              "16710           NaN        NaN    NaN  \n",
              "16711           NaN        NaN    NaN  \n",
              "16712           NaN        NaN    NaN  \n",
              "16713           NaN        NaN    NaN  \n",
              "16714           NaN        NaN    NaN  "
            ]
          },
          "execution_count": 4,
          "metadata": {},
          "output_type": "execute_result"
        }
      ],
      "source": [
        "data.tail(10)"
      ]
    },
    {
      "cell_type": "code",
      "execution_count": null,
      "metadata": {
        "scrolled": true,
        "id": "5o4MMYeKGnUu",
        "outputId": "13636b07-0bea-450a-aa4c-8d73d4e66d21"
      },
      "outputs": [
        {
          "name": "stdout",
          "output_type": "stream",
          "text": [
            "<class 'pandas.core.frame.DataFrame'>\n",
            "RangeIndex: 16715 entries, 0 to 16714\n",
            "Data columns (total 11 columns):\n",
            " #   Column           Non-Null Count  Dtype  \n",
            "---  ------           --------------  -----  \n",
            " 0   Name             16713 non-null  object \n",
            " 1   Platform         16715 non-null  object \n",
            " 2   Year_of_Release  16446 non-null  float64\n",
            " 3   Genre            16713 non-null  object \n",
            " 4   NA_sales         16715 non-null  float64\n",
            " 5   EU_sales         16715 non-null  float64\n",
            " 6   JP_sales         16715 non-null  float64\n",
            " 7   Other_sales      16715 non-null  float64\n",
            " 8   Critic_Score     8137 non-null   float64\n",
            " 9   User_Score       10014 non-null  object \n",
            " 10  Rating           9949 non-null   object \n",
            "dtypes: float64(6), object(5)\n",
            "memory usage: 1.4+ MB\n"
          ]
        }
      ],
      "source": [
        "data.info()"
      ]
    },
    {
      "cell_type": "markdown",
      "metadata": {
        "id": "DasQ29WHGnUw"
      },
      "source": [
        "<b>Комментарии студента:</b> Приведем всю красоту к нижнему регистру "
      ]
    },
    {
      "cell_type": "code",
      "execution_count": null,
      "metadata": {
        "id": "sJ32L1d5GnVG",
        "outputId": "a04bccc7-7219-4d4c-bdc3-e9a361aaf9aa"
      },
      "outputs": [
        {
          "data": {
            "text/plain": [
              "0"
            ]
          },
          "execution_count": 6,
          "metadata": {},
          "output_type": "execute_result"
        }
      ],
      "source": [
        "data.duplicated().sum()"
      ]
    },
    {
      "cell_type": "code",
      "execution_count": null,
      "metadata": {
        "scrolled": true,
        "id": "amqb6jAvGnVK"
      },
      "outputs": [],
      "source": [
        "data.columns = data.columns.str.lower()"
      ]
    },
    {
      "cell_type": "markdown",
      "metadata": {
        "id": "ji1TZzqZGnVM"
      },
      "source": [
        " <b>Комментарии студента:</b> Займемся пропусками. Посмотрим, сколько их всего"
      ]
    },
    {
      "cell_type": "code",
      "execution_count": null,
      "metadata": {
        "id": "YfffMW69GnVN",
        "outputId": "a4305d38-70fa-42a6-aa46-ebd58b785f53"
      },
      "outputs": [
        {
          "data": {
            "text/html": [
              "<style  type=\"text/css\" >\n",
              "#T_3323c_row0_col0,#T_3323c_row1_col0,#T_3323c_row3_col0,#T_3323c_row4_col0,#T_3323c_row5_col0,#T_3323c_row6_col0,#T_3323c_row7_col0{\n",
              "            background-color:  #3b4cc0;\n",
              "            color:  #f1f1f1;\n",
              "        }#T_3323c_row2_col0{\n",
              "            background-color:  #465ecf;\n",
              "            color:  #f1f1f1;\n",
              "        }#T_3323c_row8_col0{\n",
              "            background-color:  #b40426;\n",
              "            color:  #f1f1f1;\n",
              "        }#T_3323c_row9_col0,#T_3323c_row10_col0{\n",
              "            background-color:  #f08b6e;\n",
              "            color:  #000000;\n",
              "        }</style><table id=\"T_3323c_\" ><thead>    <tr>        <th class=\"blank level0\" ></th>        <th class=\"col_heading level0 col0\" >0</th>    </tr></thead><tbody>\n",
              "                <tr>\n",
              "                        <th id=\"T_3323c_level0_row0\" class=\"row_heading level0 row0\" >name</th>\n",
              "                        <td id=\"T_3323c_row0_col0\" class=\"data row0 col0\" >0.000000</td>\n",
              "            </tr>\n",
              "            <tr>\n",
              "                        <th id=\"T_3323c_level0_row1\" class=\"row_heading level0 row1\" >platform</th>\n",
              "                        <td id=\"T_3323c_row1_col0\" class=\"data row1 col0\" >0.000000</td>\n",
              "            </tr>\n",
              "            <tr>\n",
              "                        <th id=\"T_3323c_level0_row2\" class=\"row_heading level0 row2\" >year_of_release</th>\n",
              "                        <td id=\"T_3323c_row2_col0\" class=\"data row2 col0\" >2.000000</td>\n",
              "            </tr>\n",
              "            <tr>\n",
              "                        <th id=\"T_3323c_level0_row3\" class=\"row_heading level0 row3\" >genre</th>\n",
              "                        <td id=\"T_3323c_row3_col0\" class=\"data row3 col0\" >0.000000</td>\n",
              "            </tr>\n",
              "            <tr>\n",
              "                        <th id=\"T_3323c_level0_row4\" class=\"row_heading level0 row4\" >na_sales</th>\n",
              "                        <td id=\"T_3323c_row4_col0\" class=\"data row4 col0\" >0.000000</td>\n",
              "            </tr>\n",
              "            <tr>\n",
              "                        <th id=\"T_3323c_level0_row5\" class=\"row_heading level0 row5\" >eu_sales</th>\n",
              "                        <td id=\"T_3323c_row5_col0\" class=\"data row5 col0\" >0.000000</td>\n",
              "            </tr>\n",
              "            <tr>\n",
              "                        <th id=\"T_3323c_level0_row6\" class=\"row_heading level0 row6\" >jp_sales</th>\n",
              "                        <td id=\"T_3323c_row6_col0\" class=\"data row6 col0\" >0.000000</td>\n",
              "            </tr>\n",
              "            <tr>\n",
              "                        <th id=\"T_3323c_level0_row7\" class=\"row_heading level0 row7\" >other_sales</th>\n",
              "                        <td id=\"T_3323c_row7_col0\" class=\"data row7 col0\" >0.000000</td>\n",
              "            </tr>\n",
              "            <tr>\n",
              "                        <th id=\"T_3323c_level0_row8\" class=\"row_heading level0 row8\" >critic_score</th>\n",
              "                        <td id=\"T_3323c_row8_col0\" class=\"data row8 col0\" >51.000000</td>\n",
              "            </tr>\n",
              "            <tr>\n",
              "                        <th id=\"T_3323c_level0_row9\" class=\"row_heading level0 row9\" >user_score</th>\n",
              "                        <td id=\"T_3323c_row9_col0\" class=\"data row9 col0\" >40.000000</td>\n",
              "            </tr>\n",
              "            <tr>\n",
              "                        <th id=\"T_3323c_level0_row10\" class=\"row_heading level0 row10\" >rating</th>\n",
              "                        <td id=\"T_3323c_row10_col0\" class=\"data row10 col0\" >40.000000</td>\n",
              "            </tr>\n",
              "    </tbody></table>"
            ],
            "text/plain": [
              "<pandas.io.formats.style.Styler at 0x7fb161fb1880>"
            ]
          },
          "execution_count": 8,
          "metadata": {},
          "output_type": "execute_result"
        }
      ],
      "source": [
        "data.isna().sum()\n",
        "pd.DataFrame(round(data.isna().mean() * 100,)).style.background_gradient('coolwarm')"
      ]
    },
    {
      "cell_type": "markdown",
      "metadata": {
        "id": "Wtt9W9HkGnVO"
      },
      "source": [
        " <b>Комментарии студента:</b>  Пропусков всего 2%, считаю возможным их удалить, потому что восстановить значения не получится, а из-за пропусков эти данные не попадут в актуальный период."
      ]
    },
    {
      "cell_type": "code",
      "execution_count": null,
      "metadata": {
        "id": "92X3fHN8GnVP"
      },
      "outputs": [],
      "source": [
        "data = data.dropna(subset=['year_of_release'])"
      ]
    },
    {
      "cell_type": "markdown",
      "metadata": {
        "id": "S8lU9O-_GnVR"
      },
      "source": [
        "<b>Комментарии студента:</b> И поменяем тип данных"
      ]
    },
    {
      "cell_type": "code",
      "execution_count": null,
      "metadata": {
        "id": "1QbFH8xPGnVS"
      },
      "outputs": [],
      "source": [
        "data['year_of_release'] = data['year_of_release'].astype('int')"
      ]
    },
    {
      "cell_type": "code",
      "execution_count": null,
      "metadata": {
        "id": "ToOuEE9ZGnVU",
        "outputId": "6c9f67cb-c455-4ce1-ee34-b71eeea2fed8"
      },
      "outputs": [
        {
          "data": {
            "text/plain": [
              "name                  2\n",
              "platform              0\n",
              "year_of_release       0\n",
              "genre                 2\n",
              "na_sales              0\n",
              "eu_sales              0\n",
              "jp_sales              0\n",
              "other_sales           0\n",
              "critic_score       8463\n",
              "user_score         6607\n",
              "rating             6678\n",
              "dtype: int64"
            ]
          },
          "execution_count": 11,
          "metadata": {},
          "output_type": "execute_result"
        }
      ],
      "source": [
        "data.isna().sum()"
      ]
    },
    {
      "cell_type": "code",
      "execution_count": null,
      "metadata": {
        "id": "e-9-p-xWGnVX",
        "outputId": "84403f06-6aaf-4fab-b277-46cd84abf821"
      },
      "outputs": [
        {
          "data": {
            "text/plain": [
              "name                  0\n",
              "platform              0\n",
              "year_of_release       0\n",
              "genre                 0\n",
              "na_sales              0\n",
              "eu_sales              0\n",
              "jp_sales              0\n",
              "other_sales           0\n",
              "critic_score       8461\n",
              "user_score         6605\n",
              "rating             6676\n",
              "dtype: int64"
            ]
          },
          "execution_count": 12,
          "metadata": {},
          "output_type": "execute_result"
        }
      ],
      "source": [
        "data = data.dropna(subset=['name'])\n",
        "data = data.dropna(subset=['genre'])\n",
        "data.isna().sum()"
      ]
    },
    {
      "cell_type": "markdown",
      "metadata": {
        "id": "Z4jfESX5GnVZ"
      },
      "source": [
        " <b>Комментарии студента:</b> Хорошо, идем дальше по пропускам. Заглушкой для user_score предлагаю сделать ноль, потому что указать это с помощью среднего не возможно"
      ]
    },
    {
      "cell_type": "code",
      "execution_count": null,
      "metadata": {
        "id": "IDYJFS3RGnVa"
      },
      "outputs": [],
      "source": [
        "data['user_score'] = data['user_score'].fillna(nmp.nan) \n",
        "data['user_score'] = data['user_score'].replace('tbd',nmp.nan) \n",
        "data['user_score'] = data['user_score'].astype('float64')"
      ]
    },
    {
      "cell_type": "code",
      "execution_count": null,
      "metadata": {
        "id": "hUCXbr1_GnVc"
      },
      "outputs": [],
      "source": [
        "data['rating']=data['rating'].fillna('no_rating')"
      ]
    },
    {
      "cell_type": "markdown",
      "metadata": {
        "id": "D-PEKsfIGnVe"
      },
      "source": [
        "<b>Комментарии студента:</b> мини-вывод:\n",
        "    \n",
        "    По возможностям мы поменяли тип данных и убрали пропуски. Есть красивая штука tbd, которая означает «быть определенным» и расшифровывается в нашем случае (надеюсь) как пока не готовые данные. Если их удалить, то может все стать неточным. Что-то для critic_score (поменять типа на int, если точнее) я сделала, но потом сто лет пыталась разгрестись с Пирсоном, поэтому решила не трогать."
      ]
    },
    {
      "cell_type": "markdown",
      "metadata": {
        "id": "-mraVC_-GnVg"
      },
      "source": [
        "<b>Комментарии студента:</b> Посчитаем суммарные продажи во всех регионах и запишем их в отдельный столбец"
      ]
    },
    {
      "cell_type": "code",
      "execution_count": null,
      "metadata": {
        "id": "_U-shkqcGnVh",
        "outputId": "57e961cc-841e-4236-92a5-64e19d6dd715"
      },
      "outputs": [
        {
          "name": "stdout",
          "output_type": "stream",
          "text": [
            "                                name platform  year_of_release         genre  \\\n",
            "0                         Wii Sports      Wii             2006        Sports   \n",
            "1                  Super Mario Bros.      NES             1985      Platform   \n",
            "2                     Mario Kart Wii      Wii             2008        Racing   \n",
            "3                  Wii Sports Resort      Wii             2009        Sports   \n",
            "4           Pokemon Red/Pokemon Blue       GB             1996  Role-Playing   \n",
            "...                              ...      ...              ...           ...   \n",
            "16710  Samurai Warriors: Sanada Maru      PS3             2016        Action   \n",
            "16711               LMA Manager 2007     X360             2006        Sports   \n",
            "16712        Haitaka no Psychedelica      PSV             2016     Adventure   \n",
            "16713               Spirits & Spells      GBA             2003      Platform   \n",
            "16714            Winning Post 8 2016      PSV             2016    Simulation   \n",
            "\n",
            "       na_sales  eu_sales  jp_sales  other_sales  critic_score  user_score  \\\n",
            "0         41.36     28.96      3.77         8.45          76.0         8.0   \n",
            "1         29.08      3.58      6.81         0.77           NaN         NaN   \n",
            "2         15.68     12.76      3.79         3.29          82.0         8.3   \n",
            "3         15.61     10.93      3.28         2.95          80.0         8.0   \n",
            "4         11.27      8.89     10.22         1.00           NaN         NaN   \n",
            "...         ...       ...       ...          ...           ...         ...   \n",
            "16710      0.00      0.00      0.01         0.00           NaN         NaN   \n",
            "16711      0.00      0.01      0.00         0.00           NaN         NaN   \n",
            "16712      0.00      0.00      0.01         0.00           NaN         NaN   \n",
            "16713      0.01      0.00      0.00         0.00           NaN         NaN   \n",
            "16714      0.00      0.00      0.01         0.00           NaN         NaN   \n",
            "\n",
            "          rating  all_sales  \n",
            "0              E      82.54  \n",
            "1      no_rating      40.24  \n",
            "2              E      35.52  \n",
            "3              E      32.77  \n",
            "4      no_rating      31.38  \n",
            "...          ...        ...  \n",
            "16710  no_rating       0.01  \n",
            "16711  no_rating       0.01  \n",
            "16712  no_rating       0.01  \n",
            "16713  no_rating       0.01  \n",
            "16714  no_rating       0.01  \n",
            "\n",
            "[16444 rows x 12 columns]\n"
          ]
        }
      ],
      "source": [
        "data['all_sales']=data[['na_sales','jp_sales','eu_sales','other_sales']].sum(axis=1)\n",
        "print(data)"
      ]
    },
    {
      "cell_type": "code",
      "execution_count": null,
      "metadata": {
        "id": "Hi1PBdG-GnVj",
        "outputId": "4e56ed85-8a08-4ae1-aac6-bea22b9a93c2"
      },
      "outputs": [
        {
          "data": {
            "image/png": "[encoded data removed]",
            "text/plain": [
              "<Figure size 1080x720 with 1 Axes>"
            ]
          },
          "metadata": {
            "needs_background": "light"
          },
          "output_type": "display_data"
        },
        {
          "data": {
            "text/plain": [
              "year_of_release\n",
              "2008    1427\n",
              "2009    1426\n",
              "2010    1255\n",
              "2007    1197\n",
              "2011    1136\n",
              "2006    1006\n",
              "2005     939\n",
              "2002     829\n",
              "2003     775\n",
              "2004     762\n",
              "2012     653\n",
              "2015     606\n",
              "2014     581\n",
              "2013     544\n",
              "2016     502\n",
              "2001     482\n",
              "1998     379\n",
              "2000     350\n",
              "1999     338\n",
              "1997     289\n",
              "1996     263\n",
              "1995     219\n",
              "1994     121\n",
              "1993      60\n",
              "1981      46\n",
              "1992      43\n",
              "1991      41\n",
              "1982      36\n",
              "1986      21\n",
              "1989      17\n",
              "1983      17\n",
              "1990      16\n",
              "1987      16\n",
              "1988      15\n",
              "1985      14\n",
              "1984      14\n",
              "1980       9\n",
              "Name: name, dtype: int64"
            ]
          },
          "execution_count": 16,
          "metadata": {},
          "output_type": "execute_result"
        }
      ],
      "source": [
        "plt.figure(figsize=(15,10))\n",
        "plt.plot(data.groupby('year_of_release')['name'].count(), label='Релизы')\n",
        "plt.legend()\n",
        "plt.xlabel('Год выпуска')\n",
        "plt.ylabel('Количество игр')\n",
        "plt.show()\n",
        "data.groupby('year_of_release')['name'].count().sort_values(ascending=False)\n"
      ]
    },
    {
      "cell_type": "markdown",
      "metadata": {
        "id": "AUPB2Ad2GnVn"
      },
      "source": [
        " <b>Комментарии студента: </b>С каждым годом выпускается все больше игры, а первые года можно в принципе потерять. Резкие скачки были где-то в 1993 и 2003. Пик был в +-2008, потом пополз вниз. "
      ]
    },
    {
      "cell_type": "markdown",
      "metadata": {
        "id": "r9tpV-ZMGnVn"
      },
      "source": [
        "<b>Комментарии студента:</b> Как менялись продажи по платформам, выбрать наиб суммарные продажи и за какой срок исчезают старые и появляются новые платформы."
      ]
    },
    {
      "cell_type": "code",
      "execution_count": null,
      "metadata": {
        "id": "Alj0V9s9GnVo",
        "outputId": "9108eca9-cc58-4122-fe78-b6afaeab3ba4"
      },
      "outputs": [
        {
          "data": {
            "text/plain": [
              "platform\n",
              "PS2     1233.56\n",
              "X360     961.24\n",
              "PS3      931.34\n",
              "Wii      891.18\n",
              "DS       802.78\n",
              "PS       727.58\n",
              "PS4      314.14\n",
              "GBA      312.88\n",
              "PSP      289.53\n",
              "3DS      257.81\n",
              "PC       255.76\n",
              "GB       254.43\n",
              "XB       251.57\n",
              "NES      251.05\n",
              "N64      218.01\n",
              "SNES     200.04\n",
              "GC       196.73\n",
              "XOne     159.32\n",
              "2600      86.48\n",
              "WiiU      82.19\n",
              "PSV       53.81\n",
              "SAT       33.59\n",
              "GEN       28.35\n",
              "DC        15.95\n",
              "SCD        1.86\n",
              "NG         1.44\n",
              "WS         1.42\n",
              "TG16       0.16\n",
              "3DO        0.10\n",
              "GG         0.04\n",
              "PCFX       0.03\n",
              "Name: all_sales, dtype: float64"
            ]
          },
          "execution_count": 17,
          "metadata": {},
          "output_type": "execute_result"
        }
      ],
      "source": [
        "top = data.groupby('platform')['all_sales'].sum().sort_values(ascending=False)\n",
        "top\n"
      ]
    },
    {
      "cell_type": "markdown",
      "metadata": {
        "id": "6FcL15hWGnVq"
      },
      "source": [
        "<b>Комментарии студента:</b> \n",
        " По топ-топу видим, что лидер как платформа PS2, меньше всего у PCFX. \n"
      ]
    },
    {
      "cell_type": "code",
      "execution_count": null,
      "metadata": {
        "scrolled": true,
        "id": "x5Jlk1qNGnVr",
        "outputId": "2423dcfb-7fb3-40ae-befc-692c19d42b00"
      },
      "outputs": [
        {
          "data": {
            "image/png": "[encoded data removed]",
            "text/plain": [
              "<Figure size 1440x576 with 2 Axes>"
            ]
          },
          "metadata": {
            "needs_background": "light"
          },
          "output_type": "display_data"
        }
      ],
      "source": [
        "grafik = data.pivot_table(index='platform',columns='year_of_release',values='all_sales',aggfunc=('sum'))\n",
        "plt.figure(figsize=(20, 8))\n",
        "sb.heatmap(grafik);\n"
      ]
    },
    {
      "cell_type": "markdown",
      "metadata": {
        "id": "4jFwDEOoGnVx"
      },
      "source": [
        " <b>Комментарии студента:</b> Найдем актуальный период, чтобы влиял на 2017. Я решила взять с 2015ого, потому что «влиял» это очень растяжимое на мой взгляд понятие, с одной стороны все очень быстро меняется и гугл говорит что надо брать 2-3 года"
      ]
    },
    {
      "cell_type": "code",
      "execution_count": null,
      "metadata": {
        "id": "eHk_v0Z4GnVy"
      },
      "outputs": [],
      "source": [
        "year = data.query('year_of_release >= 2015')"
      ]
    },
    {
      "cell_type": "markdown",
      "metadata": {
        "id": "xE3iLmDJGnV0"
      },
      "source": [
        " <b>Комментарии студента:</b> Посмотрим на платформы, какие лидируют, а какие падают "
      ]
    },
    {
      "cell_type": "code",
      "execution_count": null,
      "metadata": {
        "id": "sLQU4ayNGnV1",
        "outputId": "5aef57cd-4c5f-44bb-dc42-f71abbebfee9"
      },
      "outputs": [
        {
          "data": {
            "image/png": "[encoded data removed]",
            "text/plain": [
              "<Figure size 720x720 with 1 Axes>"
            ]
          },
          "metadata": {
            "needs_background": "light"
          },
          "output_type": "display_data"
        }
      ],
      "source": [
        "year.groupby('platform')['all_sales'].sum().sort_values(ascending=False).plot(kind= 'bar',figsize = (10,10),title = \"Продажи с 2015 года\");"
      ]
    },
    {
      "cell_type": "markdown",
      "metadata": {
        "id": "g2-PAav7GnV3"
      },
      "source": [
        " <b>Комментарии студента:</b> Лидер PS4, а PSP что-то вообще потерялся. Посмотрим на рост "
      ]
    },
    {
      "cell_type": "code",
      "execution_count": null,
      "metadata": {
        "id": "mIK-OnBkGnV4",
        "outputId": "a9a82a21-901e-4cee-88ff-0c7157bbb336"
      },
      "outputs": [
        {
          "data": {
            "image/png": "[encoded data removed]",
            "text/plain": [
              "<Figure size 1440x576 with 2 Axes>"
            ]
          },
          "metadata": {
            "needs_background": "light"
          },
          "output_type": "display_data"
        }
      ],
      "source": [
        "grafic = year.pivot_table(index='platform',columns='year_of_release',values='all_sales',aggfunc=('sum'))\n",
        "plt.figure(figsize=(20, 8))\n",
        "sb.heatmap(grafic,linewidths=.5);\n"
      ]
    },
    {
      "cell_type": "markdown",
      "metadata": {
        "id": "57YZizILGnV5"
      },
      "source": [
        "<div class=\"alert alert-info\"> <b>Комментарии студента:</b> Так, Потенциально прибыльными видно PS4 и XOne, спадают Wii, PSV, 3DS, PS3, X360. Причем PS4 выглядит лучше чем его соперник XOne, это и по прошлому хитмапу видно. Хотя стартовали эти платформы примерно в одно время. Видимо PS4 чем-то привлекательнее для пользователей. Я нагуглила несколько статей, и вцелом они сходились и подтверждали наш вывод. В первую очередь хвалили разносторонние возможности PS4 и что она более мощная консоль"
      ]
    },
    {
      "cell_type": "code",
      "execution_count": null,
      "metadata": {
        "scrolled": false,
        "id": "fEqb7GGtGnWB",
        "outputId": "dc3bed9d-9ad1-4377-bd17-bafddfa4be7b"
      },
      "outputs": [
        {
          "data": {
            "text/plain": [
              "<AxesSubplot:xlabel='platform', ylabel='all_sales'>"
            ]
          },
          "execution_count": 24,
          "metadata": {},
          "output_type": "execute_result"
        },
        {
          "data": {
            "image/png": "[encoded data removed]",
            "text/plain": [
              "<Figure size 1080x720 with 1 Axes>"
            ]
          },
          "metadata": {
            "needs_background": "light"
          },
          "output_type": "display_data"
        }
      ],
      "source": [
        "plt.figure(figsize = (15, 10))\n",
        "plt.ylim(0, 1.3)\n",
        "sb.boxplot(x = 'platform',y = 'all_sales', data = year)"
      ]
    },
    {
      "cell_type": "markdown",
      "metadata": {
        "id": "d9Wq0qWyGnWB"
      },
      "source": [
        "<div class=\"alert alert-info\"> <b>Комментарии студента:</b> Вроде все добавила, plt.ylim добавила, и исправила. Тут можно сделать вывод, что именно медианные значения продаж лучше у WiiU, Wii, хуже всего у PSP и PSV. У расхваленных мной PS4 и XOne примерно одинаково. По выбросам мы можем думать, что это какие-то редкие очень успешные игры, которые, правда, не особо сказываются на успешности своей платоформы. Например у Иксбокс как мы сказали, высокая медиана, но при этом мало таких \"выстреливающих\" игр. Просто, видимо, в среднем игры не прям супер-класс, но хорошие и регулярные.</div>"
      ]
    },
    {
      "cell_type": "markdown",
      "metadata": {
        "id": "DEnkWRoKGnWH"
      },
      "source": [
        "<b>Комментарии студента:</b> Посмотрим на отзывы и их влияние"
      ]
    },
    {
      "cell_type": "code",
      "execution_count": null,
      "metadata": {
        "id": "MlgpeuvqGnWI"
      },
      "outputs": [],
      "source": [
        "PS_4 = data.query('platform == \"PS4\"')\n",
        "X_one = data.query('platform == \"XOne\"')\n",
        "X_360 = data.query('platform == \"X360\"')\n",
        "PS_3 = data.query('platform == \"PS3\"')\n",
        "WiiU = data.query('platform == \"WiiU\"')\n",
        "PC = data.query('platform == \"PC\"')"
      ]
    },
    {
      "cell_type": "markdown",
      "metadata": {
        "id": "ihUsgfk3GnWJ"
      },
      "source": [
        " <b>Комментарии студента:</b> И отдельно: PS4 критики:"
      ]
    },
    {
      "cell_type": "code",
      "execution_count": null,
      "metadata": {
        "scrolled": true,
        "id": "X614plmFGnWL",
        "outputId": "9b412a9b-e017-4eb7-c978-fed3116833c6"
      },
      "outputs": [
        {
          "data": {
            "image/png": "[encoded data removed]",
            "text/plain": [
              "<Figure size 720x288 with 1 Axes>"
            ]
          },
          "metadata": {
            "needs_background": "light"
          },
          "output_type": "display_data"
        }
      ],
      "source": [
        "year.query('platform==\"PS4\"').sort_values(by='critic_score',ascending=True).plot(kind='scatter',x='critic_score',y='all_sales',figsize=(10,4),title= 'Зависимость продаж платформы PS4 от отывов критиков');"
      ]
    },
    {
      "cell_type": "code",
      "execution_count": null,
      "metadata": {
        "id": "RPzcfkaoGnWR",
        "outputId": "adcae8a4-fccb-4a84-fffb-46790740ab18"
      },
      "outputs": [
        {
          "data": {
            "image/png": "[encoded data removed]",
            "text/plain": [
              "<Figure size 720x288 with 1 Axes>"
            ]
          },
          "metadata": {
            "needs_background": "light"
          },
          "output_type": "display_data"
        }
      ],
      "source": [
        "year.query('platform==\"PS4\"').sort_values(by='user_score',ascending=True).plot(kind='scatter',x='user_score',y='all_sales',figsize=(10,4),title='Зависимость продаж платформы  PS4 от отзывов пользователей');"
      ]
    },
    {
      "cell_type": "markdown",
      "metadata": {
        "id": "HT8Q1TsPGnWT"
      },
      "source": [
        " <b>Комментарии студента:</b> Тоже не вижу сильной зависимости\n",
        "Вывод: зависимость от критиков сильнее, чем от пользователей, но все равно довольно слабая\n"
      ]
    },
    {
      "cell_type": "markdown",
      "metadata": {
        "id": "fpMOwthgGnWX"
      },
      "source": [
        "<div class=\"alert alert-info\"> <b>Комментарии студента: </b> Теперь рассмотрим еще WiiU и PC"
      ]
    },
    {
      "cell_type": "code",
      "execution_count": null,
      "metadata": {
        "scrolled": true,
        "id": "ntEX8ULkGnWZ",
        "outputId": "99220a04-e9d7-4898-aa63-361b5a18c8fe"
      },
      "outputs": [
        {
          "data": {
            "image/png": "[encoded data removed]",
            "text/plain": [
              "<Figure size 720x288 with 1 Axes>"
            ]
          },
          "metadata": {
            "needs_background": "light"
          },
          "output_type": "display_data"
        }
      ],
      "source": [
        "year.query('platform==\"WiiU\"').sort_values(by='critic_score',ascending=True).plot(kind='scatter',x='critic_score',y='all_sales',figsize=(10,4),title= 'Зависимость продаж платформы WiiU от отзывов критиков');"
      ]
    },
    {
      "cell_type": "code",
      "execution_count": null,
      "metadata": {
        "scrolled": true,
        "id": "uXM996-_GnWd",
        "outputId": "4aff66ac-d637-4887-abf0-76afdefa2ef9"
      },
      "outputs": [
        {
          "data": {
            "image/png": "[encoded data removed]",
            "text/plain": [
              "<Figure size 720x288 with 1 Axes>"
            ]
          },
          "metadata": {
            "needs_background": "light"
          },
          "output_type": "display_data"
        }
      ],
      "source": [
        "year.query('platform==\"PC\"').sort_values(by='critic_score',ascending=True).plot(kind='scatter',x='critic_score',y='all_sales',figsize=(10,4),title= 'Зависимость продаж платформы PC от отзывов критиков');"
      ]
    },
    {
      "cell_type": "markdown",
      "metadata": {
        "id": "YgCUAqQOGnWr"
      },
      "source": [
        " <b>Комментарии студента:</b> Посмотрим на жанры "
      ]
    },
    {
      "cell_type": "code",
      "execution_count": null,
      "metadata": {
        "id": "axh8n0mTGnWr",
        "outputId": "3d1ad12a-9a0e-4b47-865c-690df9643039"
      },
      "outputs": [
        {
          "data": {
            "image/png": "[encoded data removed]",
            "text/plain": [
              "<Figure size 1080x1080 with 1 Axes>"
            ]
          },
          "metadata": {
            "needs_background": "light"
          },
          "output_type": "display_data"
        }
      ],
      "source": [
        "distribution = year.groupby('genre')['all_sales'].count().sort_values(ascending = False)\n",
        "distribution.plot.bar(figsize = (15,15));"
      ]
    },
    {
      "cell_type": "markdown",
      "metadata": {
        "id": "XZe4eu9DGnWs"
      },
      "source": [
        " <b>Комментарии студента:</b> Самые популярные Action, самые непопулярные Puzzle. Как грустно.\n",
        "Теперь отдельно посмотрим по прибыльности"
      ]
    },
    {
      "cell_type": "code",
      "execution_count": null,
      "metadata": {
        "id": "c808z7x8GnWs",
        "outputId": "640f7bd1-ca8a-44db-d47a-9412eaff754c"
      },
      "outputs": [
        {
          "data": {
            "image/png": "[encoded data removed]",
            "text/plain": [
              "<Figure size 1080x1080 with 1 Axes>"
            ]
          },
          "metadata": {
            "needs_background": "light"
          },
          "output_type": "display_data"
        }
      ],
      "source": [
        "dengi= year.groupby('genre')['all_sales'].median().sort_values(ascending = False)\n",
        "dengi.plot.bar(figsize = (15,15));"
      ]
    },
    {
      "cell_type": "markdown",
      "metadata": {
        "id": "oYk-p4GJGnWt"
      },
      "source": [
        " <b>Комментарии студента:</b> Самым прибыльным оказался Shooter, самым неприбыльным опять бедные пазлы. "
      ]
    },
    {
      "cell_type": "markdown",
      "metadata": {
        "id": "UYtjraTuGnWv"
      },
      "source": [
        " <b>Комментарии студента:</b> Составим портрет пользователя каждого региона\n",
        "    "
      ]
    },
    {
      "cell_type": "code",
      "execution_count": null,
      "metadata": {
        "id": "QpgOU5M-GnWw",
        "outputId": "3176f46a-e5c3-4b98-c4c8-e1493552763a"
      },
      "outputs": [
        {
          "name": "stdout",
          "output_type": "stream",
          "text": [
            "          all_sales  na_sales\n",
            "platform                     \n",
            "PS4          188.15     63.86\n",
            "XOne          86.29     50.30\n",
            "3DS           42.92     10.31\n",
            "WiiU          20.95      8.86\n",
            "X360          13.48      8.05\n"
          ]
        }
      ],
      "source": [
        "na_user = year.pivot_table(index = 'platform',values=['na_sales','all_sales'],aggfunc = ('sum'))\n",
        "na_user = na_user.sort_values(by='na_sales',ascending=False).head(5)\n",
        "print(na_user)"
      ]
    },
    {
      "cell_type": "markdown",
      "metadata": {
        "id": "kNqvNddaGnWx"
      },
      "source": [
        "<div class=\"alert alert-info\"> <b>Комментарии студента:</b> Посмотрим отдельно по регионам"
      ]
    },
    {
      "cell_type": "code",
      "execution_count": null,
      "metadata": {
        "id": "7ahRyvLVGnWy",
        "outputId": "76738f44-f303-46d0-fdc6-2db9991470e8"
      },
      "outputs": [
        {
          "data": {
            "image/png": "[encoded data removed]",
            "text/plain": [
              "<Figure size 432x288 with 1 Axes>"
            ]
          },
          "metadata": {},
          "output_type": "display_data"
        }
      ],
      "source": [
        "#na_user['%_sales'] = na_user['na_sales'] / na_user['all_sales']\n",
        "na_user.plot(kind = 'pie',y='na_sales',title = 'Топ 5 платформ по NA',autopct='%1.1f%%');"
      ]
    },
    {
      "cell_type": "markdown",
      "metadata": {
        "id": "583ixEoiGnW0"
      },
      "source": [
        "<div class=\"alert alert-info\"> Лидер PS4</div>"
      ]
    },
    {
      "cell_type": "code",
      "execution_count": null,
      "metadata": {
        "scrolled": false,
        "id": "6DwYGyl4GnW4",
        "outputId": "f2603960-e983-477b-d77f-794c5d71dbe1"
      },
      "outputs": [
        {
          "name": "stdout",
          "output_type": "stream",
          "text": [
            "          all_sales  eu_sales\n",
            "platform                     \n",
            "PS4          188.15     83.54\n",
            "XOne          86.29     28.10\n",
            "PC            13.77      9.10\n",
            "3DS           42.92      7.39\n",
            "PS3           20.42      7.30\n"
          ]
        },
        {
          "data": {
            "image/png": "[encoded data removed]",
            "text/plain": [
              "<Figure size 432x288 with 1 Axes>"
            ]
          },
          "metadata": {},
          "output_type": "display_data"
        }
      ],
      "source": [
        "eu_users = year.pivot_table(index = 'platform',values = ['all_sales','eu_sales'],aggfunc=('sum'))\n",
        "eu_users = eu_users.sort_values(by = 'eu_sales',ascending = False).head(5)\n",
        "print(eu_users)\n",
        "eu_users.plot(kind = 'pie',y='eu_sales',title = 'Топ 5 платформ по EU',autopct='%1.1f%%');"
      ]
    },
    {
      "cell_type": "markdown",
      "metadata": {
        "id": "8u0_zPC7GnW6"
      },
      "source": [
        "<div class=\"alert alert-info\"> <b>Комментарии студента:</b> Тут лидер так же PS4</div>"
      ]
    },
    {
      "cell_type": "code",
      "execution_count": null,
      "metadata": {
        "id": "y_boOHlcGnW8",
        "outputId": "b579a904-eae2-4528-d910-fd22a3d63ed3"
      },
      "outputs": [
        {
          "name": "stdout",
          "output_type": "stream",
          "text": [
            "          all_sales  jp_sales\n",
            "platform                     \n",
            "3DS           42.92     23.55\n",
            "PS4          188.15     12.05\n",
            "PSV           10.50      8.41\n",
            "PS3           20.42      4.97\n",
            "WiiU          20.95      4.12\n"
          ]
        },
        {
          "data": {
            "image/png": "[encoded data removed]",
            "text/plain": [
              "<Figure size 432x288 with 1 Axes>"
            ]
          },
          "metadata": {},
          "output_type": "display_data"
        }
      ],
      "source": [
        "jp_users = year.pivot_table(index = 'platform',values = ['all_sales','jp_sales'],aggfunc = ('sum'))\n",
        "jp_users = jp_users.sort_values(by = 'jp_sales',ascending = False).head(5)\n",
        "print(jp_users)\n",
        "jp_users.plot(kind = 'pie',y='jp_sales',title = 'Топ 5 платформ по JP',autopct='%1.1f%%');"
      ]
    },
    {
      "cell_type": "markdown",
      "metadata": {
        "id": "o091TEIYGnW9"
      },
      "source": [
        "<div class=\"alert alert-info\"> <b>Комментарии студента:</b> Тут лидирует 3DS </div>"
      ]
    },
    {
      "cell_type": "markdown",
      "metadata": {
        "id": "9fhsYcmmGnW-"
      },
      "source": [
        " <b>Комментарии студента:</b> Теперь самые популярные жанры"
      ]
    },
    {
      "cell_type": "code",
      "execution_count": null,
      "metadata": {
        "id": "y_-F2owVGnW_",
        "outputId": "45325fc5-49ab-4845-f286-707333815395"
      },
      "outputs": [
        {
          "name": "stdout",
          "output_type": "stream",
          "text": [
            "              na_sales\n",
            "genre                 \n",
            "Shooter          48.18\n",
            "Action           33.68\n",
            "Sports           26.31\n",
            "Role-Playing     19.82\n",
            "Misc              5.58\n"
          ]
        },
        {
          "data": {
            "image/png": "[encoded data removed]",
            "text/plain": [
              "<Figure size 432x288 with 1 Axes>"
            ]
          },
          "metadata": {},
          "output_type": "display_data"
        }
      ],
      "source": [
        "na_genre = year.pivot_table(index ='genre',values = ['na_sales'],aggfunc = 'sum')\n",
        "na_genre = na_genre.sort_values(by = 'na_sales',ascending=False).head(5)\n",
        "print(na_genre)\n",
        "na_genre.plot(kind='pie',y ='na_sales',autopct='%1.1f%%');"
      ]
    },
    {
      "cell_type": "markdown",
      "metadata": {
        "id": "u7vpzuwYGnXA"
      },
      "source": [
        " <b>Комментарии студента:</b> Тут лидирует Shooters "
      ]
    },
    {
      "cell_type": "code",
      "execution_count": null,
      "metadata": {
        "id": "BVtk8at_GnXB",
        "outputId": "96aed2c9-0427-4059-a250-6ec310359cb9"
      },
      "outputs": [
        {
          "name": "stdout",
          "output_type": "stream",
          "text": [
            "              eu_sales\n",
            "genre                 \n",
            "Shooter          40.28\n",
            "Action           34.82\n",
            "Sports           27.82\n",
            "Role-Playing     17.21\n",
            "Racing            6.52\n"
          ]
        },
        {
          "data": {
            "image/png": "[encoded data removed]",
            "text/plain": [
              "<Figure size 432x288 with 1 Axes>"
            ]
          },
          "metadata": {},
          "output_type": "display_data"
        }
      ],
      "source": [
        "eu_genre = year.pivot_table(index ='genre',values = ['eu_sales'],aggfunc = 'sum')\n",
        "eu_genre = eu_genre.sort_values(by = 'eu_sales',ascending=False).head(5)\n",
        "print(eu_genre)\n",
        "eu_genre.plot(kind='pie',y ='eu_sales',autopct='%1.1f%%');\n"
      ]
    },
    {
      "cell_type": "markdown",
      "metadata": {
        "id": "Zzkt_fhWGnXC"
      },
      "source": [
        " <b>Комментарии студента:</b> Тоже Shooters"
      ]
    },
    {
      "cell_type": "code",
      "execution_count": null,
      "metadata": {
        "id": "wQ5E_JM5GnXE",
        "outputId": "70e0310d-0498-4e29-d98d-1509878de8a1"
      },
      "outputs": [
        {
          "name": "stdout",
          "output_type": "stream",
          "text": [
            "              jp_sales\n",
            "genre                 \n",
            "Action           23.05\n",
            "Role-Playing     13.41\n",
            "Shooter           3.79\n",
            "Misc              3.19\n",
            "Adventure         2.22\n"
          ]
        },
        {
          "data": {
            "image/png": "[encoded data removed]",
            "text/plain": [
              "<Figure size 432x288 with 1 Axes>"
            ]
          },
          "metadata": {},
          "output_type": "display_data"
        }
      ],
      "source": [
        "jp_genre = year.pivot_table(index ='genre',values = ['jp_sales'],aggfunc = 'sum')\n",
        "jp_genre = jp_genre.sort_values(by = 'jp_sales',ascending=False).head(5)\n",
        "print(jp_genre)\n",
        "jp_genre.plot(kind='pie',y ='jp_sales',autopct='%1.1f%%');\n"
      ]
    },
    {
      "cell_type": "markdown",
      "metadata": {
        "id": "vGdhL043GnXF"
      },
      "source": [
        " <b>Комментарии студента:</b> Тут Action "
      ]
    },
    {
      "cell_type": "markdown",
      "metadata": {
        "id": "fJffgigYGnXG"
      },
      "source": [
        " <b>Комментарии студента:</b> мини-вывод: В разных регионах популярны разные, но схожие жанры, иногда даже совпадающие "
      ]
    },
    {
      "cell_type": "markdown",
      "metadata": {
        "id": "Qi071cgJGnXG"
      },
      "source": [
        " <b>Комментарии студента:</b> Влияет ли рейтинг ESRB по регионам?"
      ]
    },
    {
      "cell_type": "code",
      "execution_count": null,
      "metadata": {
        "id": "m4FqIeizGnXH",
        "outputId": "9ac1f438-1a17-459c-be3e-15de52551099"
      },
      "outputs": [
        {
          "data": {
            "text/html": [
              "<div>\n",
              "<style scoped>\n",
              "    .dataframe tbody tr th:only-of-type {\n",
              "        vertical-align: middle;\n",
              "    }\n",
              "\n",
              "    .dataframe tbody tr th {\n",
              "        vertical-align: top;\n",
              "    }\n",
              "\n",
              "    .dataframe thead th {\n",
              "        text-align: right;\n",
              "    }\n",
              "</style>\n",
              "<table border=\"1\" class=\"dataframe\">\n",
              "  <thead>\n",
              "    <tr style=\"text-align: right;\">\n",
              "      <th></th>\n",
              "      <th>na_sales</th>\n",
              "    </tr>\n",
              "    <tr>\n",
              "      <th>rating</th>\n",
              "      <th></th>\n",
              "    </tr>\n",
              "  </thead>\n",
              "  <tbody>\n",
              "    <tr>\n",
              "      <th>M</th>\n",
              "      <td>47.03</td>\n",
              "    </tr>\n",
              "    <tr>\n",
              "      <th>no_rating</th>\n",
              "      <td>37.44</td>\n",
              "    </tr>\n",
              "    <tr>\n",
              "      <th>E</th>\n",
              "      <td>26.59</td>\n",
              "    </tr>\n",
              "    <tr>\n",
              "      <th>T</th>\n",
              "      <td>22.86</td>\n",
              "    </tr>\n",
              "    <tr>\n",
              "      <th>E10+</th>\n",
              "      <td>17.87</td>\n",
              "    </tr>\n",
              "  </tbody>\n",
              "</table>\n",
              "</div>"
            ],
            "text/plain": [
              "           na_sales\n",
              "rating             \n",
              "M             47.03\n",
              "no_rating     37.44\n",
              "E             26.59\n",
              "T             22.86\n",
              "E10+          17.87"
            ]
          },
          "execution_count": 45,
          "metadata": {},
          "output_type": "execute_result"
        }
      ],
      "source": [
        "na_ESRB_rating = year.pivot_table(index ='rating',values = ['na_sales'],aggfunc = 'sum')\n",
        "na_ESRB_rating.sort_values(by='na_sales',ascending = False)\n"
      ]
    },
    {
      "cell_type": "markdown",
      "metadata": {
        "id": "i0EV7u_TGnXI"
      },
      "source": [
        "<b>Комментарии студента:</b> Популярнее с М "
      ]
    },
    {
      "cell_type": "code",
      "execution_count": null,
      "metadata": {
        "scrolled": true,
        "id": "Vr9qsO4vGnXI",
        "outputId": "39a65ecb-b674-4676-fadb-027e17dca474"
      },
      "outputs": [
        {
          "data": {
            "text/html": [
              "<div>\n",
              "<style scoped>\n",
              "    .dataframe tbody tr th:only-of-type {\n",
              "        vertical-align: middle;\n",
              "    }\n",
              "\n",
              "    .dataframe tbody tr th {\n",
              "        vertical-align: top;\n",
              "    }\n",
              "\n",
              "    .dataframe thead th {\n",
              "        text-align: right;\n",
              "    }\n",
              "</style>\n",
              "<table border=\"1\" class=\"dataframe\">\n",
              "  <thead>\n",
              "    <tr style=\"text-align: right;\">\n",
              "      <th></th>\n",
              "      <th>eu_sales</th>\n",
              "    </tr>\n",
              "    <tr>\n",
              "      <th>rating</th>\n",
              "      <th></th>\n",
              "    </tr>\n",
              "  </thead>\n",
              "  <tbody>\n",
              "    <tr>\n",
              "      <th>M</th>\n",
              "      <td>45.54</td>\n",
              "    </tr>\n",
              "    <tr>\n",
              "      <th>no_rating</th>\n",
              "      <td>35.71</td>\n",
              "    </tr>\n",
              "    <tr>\n",
              "      <th>E</th>\n",
              "      <td>34.83</td>\n",
              "    </tr>\n",
              "    <tr>\n",
              "      <th>T</th>\n",
              "      <td>20.32</td>\n",
              "    </tr>\n",
              "    <tr>\n",
              "      <th>E10+</th>\n",
              "      <td>11.54</td>\n",
              "    </tr>\n",
              "  </tbody>\n",
              "</table>\n",
              "</div>"
            ],
            "text/plain": [
              "           eu_sales\n",
              "rating             \n",
              "M             45.54\n",
              "no_rating     35.71\n",
              "E             34.83\n",
              "T             20.32\n",
              "E10+          11.54"
            ]
          },
          "execution_count": 46,
          "metadata": {},
          "output_type": "execute_result"
        }
      ],
      "source": [
        "eu_ESRB_rating = year.pivot_table(index ='rating',values = ['eu_sales'],aggfunc = 'sum')\n",
        "eu_ESRB_rating.sort_values(by='eu_sales',ascending = False)"
      ]
    },
    {
      "cell_type": "markdown",
      "metadata": {
        "id": "H7M6zBmiGnXJ"
      },
      "source": [
        "<b>Комментарии студента:</b> Популярнее с М "
      ]
    },
    {
      "cell_type": "code",
      "execution_count": null,
      "metadata": {
        "scrolled": false,
        "id": "qlc5EjZbGnXK",
        "outputId": "3e391d81-dcde-463a-99cf-077dd90683b9"
      },
      "outputs": [
        {
          "data": {
            "text/html": [
              "<div>\n",
              "<style scoped>\n",
              "    .dataframe tbody tr th:only-of-type {\n",
              "        vertical-align: middle;\n",
              "    }\n",
              "\n",
              "    .dataframe tbody tr th {\n",
              "        vertical-align: top;\n",
              "    }\n",
              "\n",
              "    .dataframe thead th {\n",
              "        text-align: right;\n",
              "    }\n",
              "</style>\n",
              "<table border=\"1\" class=\"dataframe\">\n",
              "  <thead>\n",
              "    <tr style=\"text-align: right;\">\n",
              "      <th></th>\n",
              "      <th>jp_sales</th>\n",
              "    </tr>\n",
              "    <tr>\n",
              "      <th>rating</th>\n",
              "      <th></th>\n",
              "    </tr>\n",
              "  </thead>\n",
              "  <tbody>\n",
              "    <tr>\n",
              "      <th>no_rating</th>\n",
              "      <td>32.89</td>\n",
              "    </tr>\n",
              "    <tr>\n",
              "      <th>T</th>\n",
              "      <td>7.70</td>\n",
              "    </tr>\n",
              "    <tr>\n",
              "      <th>E</th>\n",
              "      <td>5.25</td>\n",
              "    </tr>\n",
              "    <tr>\n",
              "      <th>M</th>\n",
              "      <td>4.29</td>\n",
              "    </tr>\n",
              "    <tr>\n",
              "      <th>E10+</th>\n",
              "      <td>3.27</td>\n",
              "    </tr>\n",
              "  </tbody>\n",
              "</table>\n",
              "</div>"
            ],
            "text/plain": [
              "           jp_sales\n",
              "rating             \n",
              "no_rating     32.89\n",
              "T              7.70\n",
              "E              5.25\n",
              "M              4.29\n",
              "E10+           3.27"
            ]
          },
          "execution_count": 47,
          "metadata": {},
          "output_type": "execute_result"
        }
      ],
      "source": [
        "jp_ESRB_rating = year.pivot_table(index ='rating',values = ['jp_sales'],aggfunc = 'sum')\n",
        "jp_ESRB_rating.sort_values(by='jp_sales',ascending = False)\n"
      ]
    },
    {
      "cell_type": "markdown",
      "metadata": {
        "id": "A5JXUgvJGnXL"
      },
      "source": [
        " <b>Комментарии студента:</b> Ого, NR или Т "
      ]
    },
    {
      "cell_type": "markdown",
      "metadata": {
        "id": "h6GHKqdvGnXL"
      },
      "source": [
        "<div class=\"alert alert-info\"><b>Комментарии студента:</b> Портреты:\n",
        "    \n",
        "    \n",
        "NA: пользователь обладает приставкой PS4, выбирает игры жанром shooter и рейтингом M.\n",
        "    \n",
        "EU: пользователь обладает приставкой PS4, выбирает игры жанром shooter и рейтингом M.\n",
        "    \n",
        "JP: пользователь обладает приставкой 3DS, выбирает игры жанром action и рейтингом NR.\n",
        "\n",
        "\n",
        "Возможно какие-то отдельные платформы и игры не продаются в отдельных регионах, а возрастные законы вообще могут отличаться сильно. </div>"
      ]
    },
    {
      "cell_type": "markdown",
      "metadata": {
        "id": "4RVGQi6XGnXO"
      },
      "source": [
        " <b>Комментарии студента:</b> Проверим гипотезы\n",
        "    \n",
        "Нулевая гипотеза - средние пользовательские рейтинги платформ Xbox One и PC одинаковые;\n",
        "    \n",
        "Альтернативная гипотеза - средние пользовательские рейтинги платформ Xbox One и PC не одинаковые;\n"
      ]
    },
    {
      "cell_type": "code",
      "execution_count": null,
      "metadata": {
        "id": "ShLF1QsfGnXP",
        "outputId": "7d06cd02-b2d3-4380-8d07-aec439273c5c"
      },
      "outputs": [
        {
          "name": "stdout",
          "output_type": "stream",
          "text": [
            "p-значение: 0.2946308864003345\n",
            "Не отвергаем нулевую гипотезу\n"
          ]
        }
      ],
      "source": [
        "array1=year.loc[year['platform'] == 'XOne','user_score'].dropna()\n",
        "array2=year.loc[year['platform'] == 'PC','user_score'].dropna()\n",
        "\n",
        "alpha = .05\n",
        "results = st.ttest_ind(\n",
        "    array1, \n",
        "    array2,\n",
        "    equal_var = False)\n",
        "print('p-значение:', results.pvalue)\n",
        "if results.pvalue < alpha:\n",
        "    print('Отвергаем нулевую гипотизу')\n",
        "else:\n",
        "    print('Не отвергаем нулевую гипотезу')\n"
      ]
    },
    {
      "cell_type": "markdown",
      "metadata": {
        "id": "7B7DdY-kGnXR"
      },
      "source": [
        "Нулевая гипотеза - средние пользовательские рейтинги жанров Action и Sports равны.\n",
        "    \n",
        "Альтернативная гипотеза - средние пользовательские рейтинги жанров Action и Sports не  равны.\n"
      ]
    },
    {
      "cell_type": "code",
      "execution_count": null,
      "metadata": {
        "id": "T4EszYpXGnXS",
        "outputId": "5750a9d8-51d9-43fd-cc8a-0216c9b25736"
      },
      "outputs": [
        {
          "name": "stdout",
          "output_type": "stream",
          "text": [
            "p-значение: 5.97163549920592e-10\n",
            "Отвергаем нулевую гипотизу\n"
          ]
        }
      ],
      "source": [
        "array1=year.loc[year['genre'] == 'Action','user_score'].dropna()\n",
        "array2=year.loc[year['genre'] == 'Sports','user_score'].dropna()\n",
        "\n",
        "alpha = .05\n",
        "results = st.ttest_ind(\n",
        "    array1, \n",
        "    array2,\n",
        "    equal_var = False)\n",
        "print('p-значение:', results.pvalue)\n",
        "if results.pvalue < alpha:\n",
        "    print('Отвергаем нулевую гипотизу')\n",
        "else:\n",
        "    print('Не отвергаем нулевую гипотезу')\n"
      ]
    },
    {
      "cell_type": "markdown",
      "metadata": {
        "id": "7YOX0mh2GnXU"
      },
      "source": [
        "<div class=\"alert alert-info\">  <b>Комментарии студента:</b> ВЫВОД \n",
        "\n",
        "Мы изучили датасет, привели к хорошему виду, убедились в отсутствии дубликатов. На данный момент самая популярная платформа для игр это PS2. Активно развиваются и кажутся выгодными PS4 и XOne. Активное увеличение количества игр началось около 1994 года и пик пришелся на +-2008 год. От отзывов критиков продажи зависят, но не очень сильно, от отзывов игроков почти не зависят. Удалось составить портреты пользователя по их местоположению, популярному жанру, игровому устройству и рейтингу игры. Определили самые популярные платформы и жанры. Опровергли гипотезы о том, средние пользовательские рейтинги платформ Xbox One а PC одинаковые, и средние пользовательские рейтинги жанров Action и Sports разные. Для бизнеса можно посоветовать учитывать при продажах регион, его законодательные особенности, учитывать корреляцию с оценками критиков и игроков.</div>"
      ]
    }
  ],
  "metadata": {
    "ExecuteTimeLog": [
      {
        "duration": 1530,
        "start_time": "2022-11-09T18:56:47.921Z"
      },
      {
        "duration": 14,
        "start_time": "2022-11-09T18:57:10.781Z"
      },
      {
        "duration": 14,
        "start_time": "2022-11-09T18:57:21.534Z"
      },
      {
        "duration": 7,
        "start_time": "2022-11-09T18:57:31.214Z"
      },
      {
        "duration": 13,
        "start_time": "2022-11-09T18:57:38.470Z"
      },
      {
        "duration": 15,
        "start_time": "2022-11-09T18:57:56.434Z"
      },
      {
        "duration": 15,
        "start_time": "2022-11-09T18:57:57.083Z"
      },
      {
        "duration": 15,
        "start_time": "2022-11-09T18:58:11.672Z"
      },
      {
        "duration": 54,
        "start_time": "2022-11-09T18:59:04.311Z"
      },
      {
        "duration": 20,
        "start_time": "2022-11-09T18:59:08.700Z"
      },
      {
        "duration": 99,
        "start_time": "2022-11-09T19:00:01.948Z"
      },
      {
        "duration": 6,
        "start_time": "2022-11-09T19:00:23.747Z"
      },
      {
        "duration": 11,
        "start_time": "2022-11-09T19:02:17.576Z"
      },
      {
        "duration": 9,
        "start_time": "2022-11-09T19:02:29.227Z"
      },
      {
        "duration": 3,
        "start_time": "2022-11-09T19:02:36.903Z"
      },
      {
        "duration": 22,
        "start_time": "2022-11-09T19:02:47.752Z"
      },
      {
        "duration": 8,
        "start_time": "2022-11-09T19:02:58.710Z"
      },
      {
        "duration": 4,
        "start_time": "2022-11-09T19:03:56.831Z"
      },
      {
        "duration": 4,
        "start_time": "2022-11-09T19:04:00.985Z"
      },
      {
        "duration": 10,
        "start_time": "2022-11-09T19:04:09.799Z"
      },
      {
        "duration": 16,
        "start_time": "2022-11-09T19:04:57.850Z"
      },
      {
        "duration": 9,
        "start_time": "2022-11-09T19:05:46.745Z"
      },
      {
        "duration": 4,
        "start_time": "2022-11-09T19:06:20.738Z"
      },
      {
        "duration": 15,
        "start_time": "2022-11-09T19:07:38.179Z"
      },
      {
        "duration": 185,
        "start_time": "2022-11-09T19:08:15.349Z"
      },
      {
        "duration": 193,
        "start_time": "2022-11-09T19:08:28.892Z"
      },
      {
        "duration": 8,
        "start_time": "2022-11-09T19:09:59.718Z"
      },
      {
        "duration": 897,
        "start_time": "2022-11-09T19:10:42.230Z"
      },
      {
        "duration": 7,
        "start_time": "2022-11-09T19:11:48.946Z"
      },
      {
        "duration": 169,
        "start_time": "2022-11-09T19:12:23.233Z"
      },
      {
        "duration": 215,
        "start_time": "2022-11-09T19:12:33.858Z"
      },
      {
        "duration": 371,
        "start_time": "2022-11-09T19:13:09.985Z"
      },
      {
        "duration": 558,
        "start_time": "2022-11-09T19:13:48.698Z"
      },
      {
        "duration": 15,
        "start_time": "2022-11-09T19:14:51.362Z"
      },
      {
        "duration": 13,
        "start_time": "2022-11-09T19:14:59.173Z"
      },
      {
        "duration": 138,
        "start_time": "2022-11-09T19:15:35.284Z"
      },
      {
        "duration": 145,
        "start_time": "2022-11-09T19:15:43.237Z"
      },
      {
        "duration": 148,
        "start_time": "2022-11-09T19:16:19.587Z"
      },
      {
        "duration": 70,
        "start_time": "2022-11-09T19:16:51.615Z"
      },
      {
        "duration": 208,
        "start_time": "2022-11-09T19:17:20.662Z"
      },
      {
        "duration": 216,
        "start_time": "2022-11-09T19:17:24.135Z"
      },
      {
        "duration": 223,
        "start_time": "2022-11-09T19:17:54.823Z"
      },
      {
        "duration": 243,
        "start_time": "2022-11-09T19:17:57.959Z"
      },
      {
        "duration": 12,
        "start_time": "2022-11-09T19:18:52.392Z"
      },
      {
        "duration": 12,
        "start_time": "2022-11-09T19:18:55.659Z"
      },
      {
        "duration": 11,
        "start_time": "2022-11-09T19:25:10.244Z"
      },
      {
        "duration": 9,
        "start_time": "2022-11-09T19:25:32.245Z"
      },
      {
        "duration": 9,
        "start_time": "2022-11-09T19:26:52.127Z"
      },
      {
        "duration": 12,
        "start_time": "2022-11-09T19:27:35.344Z"
      },
      {
        "duration": 169,
        "start_time": "2022-11-09T19:27:38.166Z"
      },
      {
        "duration": 250,
        "start_time": "2022-11-09T19:28:19.689Z"
      },
      {
        "duration": 181,
        "start_time": "2022-11-09T19:29:01.905Z"
      },
      {
        "duration": 12,
        "start_time": "2022-11-09T19:29:44.250Z"
      },
      {
        "duration": 183,
        "start_time": "2022-11-09T19:30:52.115Z"
      },
      {
        "duration": 194,
        "start_time": "2022-11-09T19:31:20.542Z"
      },
      {
        "duration": 21,
        "start_time": "2022-11-09T19:33:05.709Z"
      },
      {
        "duration": 70,
        "start_time": "2022-11-09T19:33:26.544Z"
      },
      {
        "duration": 14,
        "start_time": "2022-11-09T19:33:39.062Z"
      },
      {
        "duration": 12,
        "start_time": "2022-11-09T19:33:52.649Z"
      },
      {
        "duration": 14,
        "start_time": "2022-11-09T19:35:33.536Z"
      },
      {
        "duration": 7,
        "start_time": "2022-11-09T19:38:27.680Z"
      },
      {
        "duration": 6,
        "start_time": "2022-11-09T19:39:03.697Z"
      },
      {
        "duration": 1361,
        "start_time": "2022-11-10T14:12:15.753Z"
      },
      {
        "duration": 13,
        "start_time": "2022-11-10T14:12:17.116Z"
      },
      {
        "duration": 21,
        "start_time": "2022-11-10T14:12:17.131Z"
      },
      {
        "duration": 14,
        "start_time": "2022-11-10T14:12:17.154Z"
      },
      {
        "duration": 21,
        "start_time": "2022-11-10T14:12:17.170Z"
      },
      {
        "duration": 3,
        "start_time": "2022-11-10T14:12:17.192Z"
      },
      {
        "duration": 53,
        "start_time": "2022-11-10T14:12:17.197Z"
      },
      {
        "duration": 6,
        "start_time": "2022-11-10T14:12:17.252Z"
      },
      {
        "duration": 18,
        "start_time": "2022-11-10T14:12:17.260Z"
      },
      {
        "duration": 8,
        "start_time": "2022-11-10T14:12:17.281Z"
      },
      {
        "duration": 20,
        "start_time": "2022-11-10T14:12:17.291Z"
      },
      {
        "duration": 7,
        "start_time": "2022-11-10T14:12:17.313Z"
      },
      {
        "duration": 7,
        "start_time": "2022-11-10T14:12:17.321Z"
      },
      {
        "duration": 17,
        "start_time": "2022-11-10T14:12:17.330Z"
      },
      {
        "duration": 211,
        "start_time": "2022-11-10T14:12:17.349Z"
      },
      {
        "duration": 18,
        "start_time": "2022-11-10T14:12:17.562Z"
      },
      {
        "duration": 845,
        "start_time": "2022-11-10T14:12:17.581Z"
      },
      {
        "duration": 6,
        "start_time": "2022-11-10T14:12:18.427Z"
      },
      {
        "duration": 168,
        "start_time": "2022-11-10T14:12:18.434Z"
      },
      {
        "duration": 296,
        "start_time": "2022-11-10T14:12:18.603Z"
      },
      {
        "duration": 567,
        "start_time": "2022-11-10T14:12:18.901Z"
      },
      {
        "duration": 20,
        "start_time": "2022-11-10T14:12:19.469Z"
      },
      {
        "duration": 138,
        "start_time": "2022-11-10T14:12:19.491Z"
      },
      {
        "duration": 152,
        "start_time": "2022-11-10T14:12:19.631Z"
      },
      {
        "duration": 196,
        "start_time": "2022-11-10T14:12:19.785Z"
      },
      {
        "duration": 217,
        "start_time": "2022-11-10T14:12:19.983Z"
      },
      {
        "duration": 13,
        "start_time": "2022-11-10T14:12:20.202Z"
      },
      {
        "duration": 180,
        "start_time": "2022-11-10T14:12:20.218Z"
      },
      {
        "duration": 180,
        "start_time": "2022-11-10T14:12:20.400Z"
      },
      {
        "duration": 187,
        "start_time": "2022-11-10T14:12:20.582Z"
      },
      {
        "duration": 16,
        "start_time": "2022-11-10T14:12:20.771Z"
      },
      {
        "duration": 202,
        "start_time": "2022-11-10T14:12:20.789Z"
      },
      {
        "duration": 207,
        "start_time": "2022-11-10T14:12:20.993Z"
      },
      {
        "duration": 14,
        "start_time": "2022-11-10T14:12:21.203Z"
      },
      {
        "duration": 12,
        "start_time": "2022-11-10T14:12:21.219Z"
      },
      {
        "duration": 13,
        "start_time": "2022-11-10T14:12:21.233Z"
      },
      {
        "duration": 33,
        "start_time": "2022-11-10T14:12:21.247Z"
      },
      {
        "duration": 6,
        "start_time": "2022-11-10T14:12:21.281Z"
      },
      {
        "duration": 23,
        "start_time": "2022-11-10T14:13:24.204Z"
      },
      {
        "duration": 41,
        "start_time": "2022-11-10T14:24:42.102Z"
      },
      {
        "duration": 31,
        "start_time": "2022-11-10T14:25:04.733Z"
      },
      {
        "duration": 5,
        "start_time": "2022-11-10T14:25:10.533Z"
      },
      {
        "duration": 29,
        "start_time": "2022-11-10T14:25:21.087Z"
      },
      {
        "duration": 472,
        "start_time": "2022-11-10T14:25:31.351Z"
      },
      {
        "duration": 44,
        "start_time": "2022-11-10T14:28:44.016Z"
      },
      {
        "duration": 551,
        "start_time": "2022-11-10T14:29:14.268Z"
      },
      {
        "duration": 429,
        "start_time": "2022-11-10T14:29:22.333Z"
      },
      {
        "duration": 36,
        "start_time": "2022-11-10T14:29:45.556Z"
      },
      {
        "duration": 9,
        "start_time": "2022-11-10T14:29:58.154Z"
      },
      {
        "duration": 39,
        "start_time": "2022-11-10T14:30:02.061Z"
      },
      {
        "duration": 36,
        "start_time": "2022-11-10T14:30:05.457Z"
      },
      {
        "duration": 415,
        "start_time": "2022-11-10T14:30:14.116Z"
      },
      {
        "duration": 8,
        "start_time": "2022-11-10T14:42:30.822Z"
      },
      {
        "duration": 45,
        "start_time": "2022-11-10T16:17:00.111Z"
      },
      {
        "duration": 1374,
        "start_time": "2022-11-10T16:17:15.470Z"
      },
      {
        "duration": 26,
        "start_time": "2022-11-10T16:17:16.846Z"
      },
      {
        "duration": 15,
        "start_time": "2022-11-10T16:17:16.873Z"
      },
      {
        "duration": 21,
        "start_time": "2022-11-10T16:17:16.890Z"
      },
      {
        "duration": 16,
        "start_time": "2022-11-10T16:17:16.912Z"
      },
      {
        "duration": 2,
        "start_time": "2022-11-10T16:17:16.930Z"
      },
      {
        "duration": 53,
        "start_time": "2022-11-10T16:17:16.947Z"
      },
      {
        "duration": 5,
        "start_time": "2022-11-10T16:17:17.001Z"
      },
      {
        "duration": 8,
        "start_time": "2022-11-10T16:17:17.008Z"
      },
      {
        "duration": 14,
        "start_time": "2022-11-10T16:17:17.018Z"
      },
      {
        "duration": 28,
        "start_time": "2022-11-10T16:17:17.033Z"
      },
      {
        "duration": 8,
        "start_time": "2022-11-10T16:17:17.062Z"
      },
      {
        "duration": 7,
        "start_time": "2022-11-10T16:17:17.072Z"
      },
      {
        "duration": 14,
        "start_time": "2022-11-10T16:17:17.081Z"
      },
      {
        "duration": 196,
        "start_time": "2022-11-10T16:17:17.097Z"
      },
      {
        "duration": 8,
        "start_time": "2022-11-10T16:17:17.295Z"
      },
      {
        "duration": 915,
        "start_time": "2022-11-10T16:17:17.304Z"
      },
      {
        "duration": 6,
        "start_time": "2022-11-10T16:17:18.220Z"
      },
      {
        "duration": 186,
        "start_time": "2022-11-10T16:17:18.228Z"
      },
      {
        "duration": 343,
        "start_time": "2022-11-10T16:17:18.416Z"
      },
      {
        "duration": 605,
        "start_time": "2022-11-10T16:17:18.761Z"
      },
      {
        "duration": 15,
        "start_time": "2022-11-10T16:17:19.368Z"
      },
      {
        "duration": 145,
        "start_time": "2022-11-10T16:17:19.385Z"
      },
      {
        "duration": 144,
        "start_time": "2022-11-10T16:17:19.531Z"
      },
      {
        "duration": 203,
        "start_time": "2022-11-10T16:17:19.676Z"
      },
      {
        "duration": 223,
        "start_time": "2022-11-10T16:17:19.881Z"
      },
      {
        "duration": 12,
        "start_time": "2022-11-10T16:17:20.105Z"
      },
      {
        "duration": 203,
        "start_time": "2022-11-10T16:17:20.120Z"
      },
      {
        "duration": 178,
        "start_time": "2022-11-10T16:17:20.324Z"
      },
      {
        "duration": 176,
        "start_time": "2022-11-10T16:17:20.504Z"
      },
      {
        "duration": 12,
        "start_time": "2022-11-10T16:17:20.681Z"
      },
      {
        "duration": 183,
        "start_time": "2022-11-10T16:17:20.694Z"
      },
      {
        "duration": 203,
        "start_time": "2022-11-10T16:17:20.878Z"
      },
      {
        "duration": 13,
        "start_time": "2022-11-10T16:17:21.083Z"
      },
      {
        "duration": 21,
        "start_time": "2022-11-10T16:17:21.097Z"
      },
      {
        "duration": 17,
        "start_time": "2022-11-10T16:17:21.120Z"
      },
      {
        "duration": 16,
        "start_time": "2022-11-10T16:17:21.139Z"
      },
      {
        "duration": 14,
        "start_time": "2022-11-10T16:17:21.156Z"
      },
      {
        "duration": 4,
        "start_time": "2022-11-10T16:24:55.613Z"
      },
      {
        "duration": 211,
        "start_time": "2022-11-10T16:36:40.981Z"
      },
      {
        "duration": 59,
        "start_time": "2022-11-10T17:37:23.025Z"
      },
      {
        "duration": 47,
        "start_time": "2022-11-10T18:07:26.783Z"
      },
      {
        "duration": 501,
        "start_time": "2022-11-10T19:03:27.392Z"
      },
      {
        "duration": 233,
        "start_time": "2022-11-10T19:04:34.774Z"
      },
      {
        "duration": 252,
        "start_time": "2022-11-10T19:05:14.849Z"
      },
      {
        "duration": 242,
        "start_time": "2022-11-10T19:05:37.910Z"
      },
      {
        "duration": 568,
        "start_time": "2022-11-10T19:09:50.802Z"
      },
      {
        "duration": 236,
        "start_time": "2022-11-10T19:11:20.393Z"
      },
      {
        "duration": 239,
        "start_time": "2022-11-10T19:11:39.870Z"
      },
      {
        "duration": 4,
        "start_time": "2022-11-10T19:30:52.909Z"
      },
      {
        "duration": 4,
        "start_time": "2022-11-10T19:32:21.624Z"
      },
      {
        "duration": 53,
        "start_time": "2022-11-10T19:32:53.933Z"
      },
      {
        "duration": 145,
        "start_time": "2022-11-10T19:36:03.341Z"
      },
      {
        "duration": 125,
        "start_time": "2022-11-10T19:36:15.719Z"
      },
      {
        "duration": 145,
        "start_time": "2022-11-10T19:36:29.222Z"
      },
      {
        "duration": 48,
        "start_time": "2022-11-10T19:37:00.258Z"
      },
      {
        "duration": 4,
        "start_time": "2022-11-10T19:37:43.841Z"
      },
      {
        "duration": 122,
        "start_time": "2022-11-10T19:37:55.178Z"
      },
      {
        "duration": 68,
        "start_time": "2022-11-10T19:38:33.128Z"
      },
      {
        "duration": 212,
        "start_time": "2022-11-10T19:38:59.458Z"
      },
      {
        "duration": 4,
        "start_time": "2022-11-10T19:39:22.676Z"
      },
      {
        "duration": 94,
        "start_time": "2022-11-10T19:40:05.466Z"
      },
      {
        "duration": 18,
        "start_time": "2022-11-10T19:41:19.086Z"
      },
      {
        "duration": 4,
        "start_time": "2022-11-10T19:41:28.550Z"
      },
      {
        "duration": 4,
        "start_time": "2022-11-10T19:42:06.454Z"
      },
      {
        "duration": 272,
        "start_time": "2022-11-10T20:06:59.104Z"
      },
      {
        "duration": 244,
        "start_time": "2022-11-10T20:07:23.787Z"
      },
      {
        "duration": 236,
        "start_time": "2022-11-10T20:11:20.875Z"
      },
      {
        "duration": 10,
        "start_time": "2022-11-10T20:16:36.795Z"
      },
      {
        "duration": 17,
        "start_time": "2022-11-10T20:17:02.548Z"
      },
      {
        "duration": 14,
        "start_time": "2022-11-10T20:17:37.950Z"
      },
      {
        "duration": 26,
        "start_time": "2022-11-10T20:17:55.262Z"
      },
      {
        "duration": 21,
        "start_time": "2022-11-10T20:18:31.992Z"
      },
      {
        "duration": 180,
        "start_time": "2022-11-10T20:25:19.004Z"
      },
      {
        "duration": 8,
        "start_time": "2022-11-10T20:34:16.863Z"
      },
      {
        "duration": 23,
        "start_time": "2022-11-10T20:34:41.300Z"
      },
      {
        "duration": 785,
        "start_time": "2022-11-10T20:34:48.520Z"
      },
      {
        "duration": 194,
        "start_time": "2022-11-10T20:35:02.764Z"
      },
      {
        "duration": 182,
        "start_time": "2022-11-10T20:36:37.389Z"
      },
      {
        "duration": 158,
        "start_time": "2022-11-10T20:37:06.290Z"
      },
      {
        "duration": 9,
        "start_time": "2022-11-10T20:39:27.557Z"
      },
      {
        "duration": 190,
        "start_time": "2022-11-10T20:41:51.375Z"
      },
      {
        "duration": 182,
        "start_time": "2022-11-10T20:43:16.104Z"
      },
      {
        "duration": 178,
        "start_time": "2022-11-10T20:43:50.256Z"
      },
      {
        "duration": 269,
        "start_time": "2022-11-10T20:44:08.401Z"
      },
      {
        "duration": 186,
        "start_time": "2022-11-10T20:44:19.056Z"
      },
      {
        "duration": 169,
        "start_time": "2022-11-10T20:45:39.945Z"
      },
      {
        "duration": 13,
        "start_time": "2022-11-10T21:05:34.600Z"
      },
      {
        "duration": 1284,
        "start_time": "2022-11-11T10:20:29.587Z"
      },
      {
        "duration": 25,
        "start_time": "2022-11-11T10:20:30.873Z"
      },
      {
        "duration": 17,
        "start_time": "2022-11-11T10:20:30.900Z"
      },
      {
        "duration": 39,
        "start_time": "2022-11-11T10:20:30.921Z"
      },
      {
        "duration": 27,
        "start_time": "2022-11-11T10:20:30.961Z"
      },
      {
        "duration": 27,
        "start_time": "2022-11-11T10:20:30.990Z"
      },
      {
        "duration": 16,
        "start_time": "2022-11-11T10:20:31.019Z"
      },
      {
        "duration": 85,
        "start_time": "2022-11-11T10:20:31.037Z"
      },
      {
        "duration": 6,
        "start_time": "2022-11-11T10:20:31.124Z"
      },
      {
        "duration": 25,
        "start_time": "2022-11-11T10:20:31.133Z"
      },
      {
        "duration": 21,
        "start_time": "2022-11-11T10:20:31.160Z"
      },
      {
        "duration": 45,
        "start_time": "2022-11-11T10:20:31.183Z"
      },
      {
        "duration": 13,
        "start_time": "2022-11-11T10:20:31.230Z"
      },
      {
        "duration": 35,
        "start_time": "2022-11-11T10:20:31.245Z"
      },
      {
        "duration": 47,
        "start_time": "2022-11-11T10:20:31.281Z"
      },
      {
        "duration": 230,
        "start_time": "2022-11-11T10:20:31.330Z"
      },
      {
        "duration": 9,
        "start_time": "2022-11-11T10:20:31.562Z"
      },
      {
        "duration": 966,
        "start_time": "2022-11-11T10:20:31.572Z"
      },
      {
        "duration": 7,
        "start_time": "2022-11-11T10:20:32.540Z"
      },
      {
        "duration": 191,
        "start_time": "2022-11-11T10:20:32.548Z"
      },
      {
        "duration": 335,
        "start_time": "2022-11-11T10:20:32.741Z"
      },
      {
        "duration": 636,
        "start_time": "2022-11-11T10:20:33.078Z"
      },
      {
        "duration": 660,
        "start_time": "2022-11-11T10:20:33.716Z"
      },
      {
        "duration": 293,
        "start_time": "2022-11-11T10:20:34.379Z"
      },
      {
        "duration": 19,
        "start_time": "2022-11-11T10:20:34.674Z"
      },
      {
        "duration": 168,
        "start_time": "2022-11-11T10:20:34.694Z"
      },
      {
        "duration": 4,
        "start_time": "2022-11-11T10:20:34.865Z"
      },
      {
        "duration": 208,
        "start_time": "2022-11-11T10:20:34.874Z"
      },
      {
        "duration": 5,
        "start_time": "2022-11-11T10:20:35.083Z"
      },
      {
        "duration": 155,
        "start_time": "2022-11-11T10:20:35.090Z"
      },
      {
        "duration": 5,
        "start_time": "2022-11-11T10:20:35.247Z"
      },
      {
        "duration": 11,
        "start_time": "2022-11-11T10:20:35.254Z"
      },
      {
        "duration": 164,
        "start_time": "2022-11-11T10:20:35.266Z"
      },
      {
        "duration": 5,
        "start_time": "2022-11-11T10:20:35.431Z"
      },
      {
        "duration": 8,
        "start_time": "2022-11-11T10:20:35.437Z"
      },
      {
        "duration": 318,
        "start_time": "2022-11-11T10:20:35.447Z"
      },
      {
        "duration": 260,
        "start_time": "2022-11-11T10:20:35.767Z"
      },
      {
        "duration": 15,
        "start_time": "2022-11-11T10:20:36.030Z"
      },
      {
        "duration": 208,
        "start_time": "2022-11-11T10:20:36.047Z"
      },
      {
        "duration": 211,
        "start_time": "2022-11-11T10:20:36.257Z"
      },
      {
        "duration": 207,
        "start_time": "2022-11-11T10:20:36.470Z"
      },
      {
        "duration": 211,
        "start_time": "2022-11-11T10:20:36.678Z"
      },
      {
        "duration": 210,
        "start_time": "2022-11-11T10:20:36.890Z"
      },
      {
        "duration": 223,
        "start_time": "2022-11-11T10:20:37.102Z"
      },
      {
        "duration": 15,
        "start_time": "2022-11-11T10:20:37.326Z"
      },
      {
        "duration": 26,
        "start_time": "2022-11-11T10:20:37.342Z"
      },
      {
        "duration": 26,
        "start_time": "2022-11-11T10:20:37.370Z"
      },
      {
        "duration": 17,
        "start_time": "2022-11-11T10:20:37.397Z"
      },
      {
        "duration": 24,
        "start_time": "2022-11-11T10:20:37.416Z"
      },
      {
        "duration": 9,
        "start_time": "2022-11-11T10:29:07.412Z"
      },
      {
        "duration": 72,
        "start_time": "2022-11-11T10:30:15.218Z"
      },
      {
        "duration": 110,
        "start_time": "2022-11-11T10:30:23.216Z"
      },
      {
        "duration": 10,
        "start_time": "2022-11-11T10:30:28.292Z"
      },
      {
        "duration": 80,
        "start_time": "2022-11-11T10:30:58.850Z"
      },
      {
        "duration": 11,
        "start_time": "2022-11-11T10:31:02.563Z"
      },
      {
        "duration": 191,
        "start_time": "2022-11-11T10:31:22.251Z"
      },
      {
        "duration": 229,
        "start_time": "2022-11-11T10:31:29.383Z"
      },
      {
        "duration": 263,
        "start_time": "2022-11-11T10:31:35.256Z"
      },
      {
        "duration": 329,
        "start_time": "2022-11-11T10:31:38.899Z"
      },
      {
        "duration": 15,
        "start_time": "2022-11-11T10:31:58.594Z"
      },
      {
        "duration": 255,
        "start_time": "2022-11-11T10:32:15.900Z"
      },
      {
        "duration": 20,
        "start_time": "2022-11-11T10:32:30.401Z"
      },
      {
        "duration": 15,
        "start_time": "2022-11-11T10:32:58.459Z"
      },
      {
        "duration": 15,
        "start_time": "2022-11-11T10:33:08.166Z"
      },
      {
        "duration": 252,
        "start_time": "2022-11-11T10:33:28.042Z"
      },
      {
        "duration": 10,
        "start_time": "2022-11-11T10:38:49.452Z"
      },
      {
        "duration": 9,
        "start_time": "2022-11-11T10:39:06.900Z"
      },
      {
        "duration": 239,
        "start_time": "2022-11-11T10:39:36.302Z"
      },
      {
        "duration": 226,
        "start_time": "2022-11-11T10:39:40.282Z"
      },
      {
        "duration": 15,
        "start_time": "2022-11-11T10:40:02.119Z"
      },
      {
        "duration": 9,
        "start_time": "2022-11-11T10:40:06.244Z"
      },
      {
        "duration": 10,
        "start_time": "2022-11-11T10:40:08.779Z"
      },
      {
        "duration": 10,
        "start_time": "2022-11-11T10:52:53.517Z"
      }
    ],
    "kernelspec": {
      "display_name": "Python 3 (ipykernel)",
      "language": "python",
      "name": "python3"
    },
    "language_info": {
      "codemirror_mode": {
        "name": "ipython",
        "version": 3
      },
      "file_extension": ".py",
      "mimetype": "text/x-python",
      "name": "python",
      "nbconvert_exporter": "python",
      "pygments_lexer": "ipython3",
      "version": "3.9.5"
    },
    "toc": {
      "base_numbering": 1,
      "nav_menu": {},
      "number_sections": true,
      "sideBar": true,
      "skip_h1_title": true,
      "title_cell": "Table of Contents",
      "title_sidebar": "Contents",
      "toc_cell": false,
      "toc_position": {},
      "toc_section_display": true,
      "toc_window_display": false
    },
    "colab": {
      "provenance": []
    }
  },
  "nbformat": 4,
  "nbformat_minor": 0
}